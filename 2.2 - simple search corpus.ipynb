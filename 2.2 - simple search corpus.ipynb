{
 "cells": [
  {
   "cell_type": "code",
   "execution_count": 1,
   "metadata": {},
   "outputs": [],
   "source": [
    "# 2.2 - simple search of documents in a corpus\n",
    "#\n",
    "# code for the Intuitive Text Mining book\n",
    "# Tariq Rashid, 2018"
   ]
  },
  {
   "cell_type": "code",
   "execution_count": 2,
   "metadata": {},
   "outputs": [],
   "source": [
    "# collections provides defaultdict\n",
    "import collections\n",
    "\n",
    "# glob module for finding files that match a pattern\n",
    "import glob"
   ]
  },
  {
   "cell_type": "code",
   "execution_count": 3,
   "metadata": {},
   "outputs": [],
   "source": [
    "# function to clean and simplify text for indexing and also querying\n",
    "\n",
    "def clean_text(text):\n",
    "    \n",
    "    # make lowercase\n",
    "    cleaned_text = text.lower()\n",
    "\n",
    "    # keep only normal letters a-z, numbers, spaces, and new lines, remove punctuation\n",
    "    cleaned_text = [char for char in cleaned_text if char.isalnum() or char==\" \" or char=='\\n']\n",
    "    cleaned_text = \"\".join(cleaned_text)\n",
    "    \n",
    "    return cleaned_text"
   ]
  },
  {
   "cell_type": "code",
   "execution_count": 4,
   "metadata": {},
   "outputs": [
    {
     "name": "stdout",
     "output_type": "stream",
     "text": [
      "reading from ... data_sets/recipes/txt/15.txt\n",
      "reading from ... data_sets/recipes/txt/01.txt\n",
      "reading from ... data_sets/recipes/txt/00.txt\n",
      "reading from ... data_sets/recipes/txt/14.txt\n",
      "reading from ... data_sets/recipes/txt/02.txt\n",
      "reading from ... data_sets/recipes/txt/16.txt\n",
      "reading from ... data_sets/recipes/txt/17.txt\n",
      "reading from ... data_sets/recipes/txt/03.txt\n",
      "reading from ... data_sets/recipes/txt/07.txt\n",
      "reading from ... data_sets/recipes/txt/13.txt\n",
      "reading from ... data_sets/recipes/txt/12.txt\n",
      "reading from ... data_sets/recipes/txt/06.txt\n",
      "reading from ... data_sets/recipes/txt/10.txt\n",
      "reading from ... data_sets/recipes/txt/04.txt\n",
      "reading from ... data_sets/recipes/txt/05.txt\n",
      "reading from ... data_sets/recipes/txt/11.txt\n",
      "reading from ... data_sets/recipes/txt/08.txt\n",
      "reading from ... data_sets/recipes/txt/20.txt\n",
      "reading from ... data_sets/recipes/txt/21.txt\n",
      "reading from ... data_sets/recipes/txt/09.txt\n",
      "reading from ... data_sets/recipes/txt/19.txt\n",
      "reading from ... data_sets/recipes/txt/18.txt\n"
     ]
    }
   ],
   "source": [
    "# read text documents and build word index\n",
    "\n",
    "# corpus location and text filename pattern\n",
    "corpus_directory = 'data_sets/recipes/'\n",
    "text_filename_pattern = 'txt/??.txt'\n",
    "\n",
    "# list of text files\n",
    "list_of_text_files = glob.glob(corpus_directory + text_filename_pattern)\n",
    "\n",
    "# create empty index\n",
    "index_dict = collections.defaultdict(list)\n",
    "\n",
    "# read text from every text file\n",
    "for document_name in list_of_text_files:\n",
    "    print(\"reading from ...\", document_name)\n",
    "    with open(document_name, \"r\") as f:\n",
    "        \n",
    "        text_content = f.read()\n",
    "        \n",
    "        cleaned_text = clean_text(text_content)\n",
    "\n",
    "        # split the text into words\n",
    "        word_list = cleaned_text.split()\n",
    "        \n",
    "        # work through every word and build index\n",
    "        for word in word_list:\n",
    "            # add word to index\n",
    "            index_dict[word].append(document_name)\n",
    "            pass\n",
    "        \n",
    "        pass\n",
    "    pass"
   ]
  },
  {
   "cell_type": "code",
   "execution_count": 5,
   "metadata": {},
   "outputs": [
    {
     "data": {
      "text/plain": [
       "[('fried',\n",
       "  ['data_sets/recipes/txt/15.txt',\n",
       "   'data_sets/recipes/txt/14.txt',\n",
       "   'data_sets/recipes/txt/07.txt']),\n",
       " ('eggplants',\n",
       "  ['data_sets/recipes/txt/15.txt',\n",
       "   'data_sets/recipes/txt/15.txt',\n",
       "   'data_sets/recipes/txt/16.txt',\n",
       "   'data_sets/recipes/txt/16.txt']),\n",
       " ('melanzane',\n",
       "  ['data_sets/recipes/txt/15.txt', 'data_sets/recipes/txt/16.txt']),\n",
       " ('fritte', ['data_sets/recipes/txt/15.txt']),\n",
       " ('eggplant', ['data_sets/recipes/txt/15.txt'])]"
      ]
     },
     "execution_count": 5,
     "metadata": {},
     "output_type": "execute_result"
    }
   ],
   "source": [
    "# look at a part of the index\n",
    "\n",
    "list(index_dict.items())[:5]"
   ]
  },
  {
   "cell_type": "code",
   "execution_count": 6,
   "metadata": {},
   "outputs": [
    {
     "data": {
      "text/plain": [
       "['data_sets/recipes/txt/17.txt',\n",
       " 'data_sets/recipes/txt/03.txt',\n",
       " 'data_sets/recipes/txt/12.txt',\n",
       " 'data_sets/recipes/txt/06.txt',\n",
       " 'data_sets/recipes/txt/08.txt',\n",
       " 'data_sets/recipes/txt/08.txt',\n",
       " 'data_sets/recipes/txt/18.txt']"
      ]
     },
     "execution_count": 6,
     "metadata": {},
     "output_type": "execute_result"
    }
   ],
   "source": [
    "# look up \"milk\" in the index directly\n",
    "\n",
    "index_dict[\"milk\"]"
   ]
  },
  {
   "cell_type": "code",
   "execution_count": 7,
   "metadata": {},
   "outputs": [
    {
     "data": {
      "text/plain": [
       "['data_sets/recipes/txt/01.txt',\n",
       " 'data_sets/recipes/txt/14.txt',\n",
       " 'data_sets/recipes/txt/16.txt',\n",
       " 'data_sets/recipes/txt/17.txt',\n",
       " 'data_sets/recipes/txt/17.txt',\n",
       " 'data_sets/recipes/txt/03.txt',\n",
       " 'data_sets/recipes/txt/03.txt',\n",
       " 'data_sets/recipes/txt/03.txt',\n",
       " 'data_sets/recipes/txt/07.txt',\n",
       " 'data_sets/recipes/txt/07.txt',\n",
       " 'data_sets/recipes/txt/13.txt',\n",
       " 'data_sets/recipes/txt/13.txt',\n",
       " 'data_sets/recipes/txt/13.txt',\n",
       " 'data_sets/recipes/txt/12.txt',\n",
       " 'data_sets/recipes/txt/10.txt',\n",
       " 'data_sets/recipes/txt/10.txt',\n",
       " 'data_sets/recipes/txt/10.txt',\n",
       " 'data_sets/recipes/txt/04.txt',\n",
       " 'data_sets/recipes/txt/11.txt',\n",
       " 'data_sets/recipes/txt/11.txt',\n",
       " 'data_sets/recipes/txt/08.txt',\n",
       " 'data_sets/recipes/txt/20.txt',\n",
       " 'data_sets/recipes/txt/21.txt',\n",
       " 'data_sets/recipes/txt/21.txt',\n",
       " 'data_sets/recipes/txt/21.txt',\n",
       " 'data_sets/recipes/txt/21.txt',\n",
       " 'data_sets/recipes/txt/18.txt',\n",
       " 'data_sets/recipes/txt/18.txt']"
      ]
     },
     "execution_count": 7,
     "metadata": {},
     "output_type": "execute_result"
    }
   ],
   "source": [
    "# look up \"water\" in the index directly\n",
    "\n",
    "index_dict[\"water\"]"
   ]
  },
  {
   "cell_type": "code",
   "execution_count": 8,
   "metadata": {},
   "outputs": [
    {
     "data": {
      "text/plain": [
       "['data_sets/recipes/txt/10.txt',\n",
       " 'data_sets/recipes/txt/04.txt',\n",
       " 'data_sets/recipes/txt/11.txt',\n",
       " 'data_sets/recipes/txt/09.txt']"
      ]
     },
     "execution_count": 8,
     "metadata": {},
     "output_type": "execute_result"
    }
   ],
   "source": [
    "# doc contains \"(Salsa\", query with \"Salsa\"\n",
    "\n",
    "index_dict[clean_text(\"Salsa\")]"
   ]
  },
  {
   "cell_type": "code",
   "execution_count": 9,
   "metadata": {},
   "outputs": [
    {
     "data": {
      "text/plain": [
       "['data_sets/recipes/txt/10.txt',\n",
       " 'data_sets/recipes/txt/04.txt',\n",
       " 'data_sets/recipes/txt/11.txt',\n",
       " 'data_sets/recipes/txt/09.txt']"
      ]
     },
     "execution_count": 9,
     "metadata": {},
     "output_type": "execute_result"
    }
   ],
   "source": [
    "# doc contains \"(Salsa\", query with \"salsa\"\n",
    "\n",
    "index_dict[clean_text(\"salsa\")]"
   ]
  },
  {
   "cell_type": "code",
   "execution_count": null,
   "metadata": {},
   "outputs": [],
   "source": []
  }
 ],
 "metadata": {
  "kernelspec": {
   "display_name": "Python 3",
   "language": "python",
   "name": "python3"
  },
  "language_info": {
   "codemirror_mode": {
    "name": "ipython",
    "version": 3
   },
   "file_extension": ".py",
   "mimetype": "text/x-python",
   "name": "python",
   "nbconvert_exporter": "python",
   "pygments_lexer": "ipython3",
   "version": "3.7.0"
  }
 },
 "nbformat": 4,
 "nbformat_minor": 2
}
