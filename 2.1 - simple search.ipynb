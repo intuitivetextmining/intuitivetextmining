{
 "cells": [
  {
   "cell_type": "code",
   "execution_count": 1,
   "metadata": {},
   "outputs": [],
   "source": [
    "# 2.1 - very simple search prototype\n",
    "#\n",
    "# code for the Intuitive Text Mining book\n",
    "# Tariq Rashid, 2018"
   ]
  },
  {
   "cell_type": "code",
   "execution_count": 2,
   "metadata": {},
   "outputs": [],
   "source": [
    "# import pandas for dataframe functions\n",
    "# import pandas\n",
    "\n",
    "import collections"
   ]
  },
  {
   "cell_type": "code",
   "execution_count": 3,
   "metadata": {},
   "outputs": [],
   "source": [
    "# simple documents, with names and content\n",
    "\n",
    "doc_1_name = \"coffee_guide\"\n",
    "doc_1_text = \"coffee should have water but no milk\"\n",
    "\n",
    "doc_2_name = \"making_pizza\"\n",
    "doc_2_text = \"pizza dough is just flour water and yeast\"\n",
    "\n",
    "# collate into a corpus dictionary\n",
    "corpus = {\n",
    "    doc_1_name : doc_1_text.split(),\n",
    "    doc_2_name : doc_2_text.split()\n",
    "}\n",
    "\n",
    "# print out document names and values\n",
    "print(corpus.keys())\n",
    "print(corpus.values())"
   ]
  },
  {
   "cell_type": "code",
   "execution_count": 4,
   "metadata": {},
   "outputs": [],
   "source": [
    "# create index\n",
    "\n",
    "index_dict = collections.defaultdict(list)\n",
    "\n",
    "# work through all words in all documents\n",
    "for doc in corpus.keys():\n",
    "    print(\"indexing ..\", doc)\n",
    "    \n",
    "    for word in corpus[doc]:\n",
    "        print(\"  \", word)\n",
    "        \n",
    "        # add word to index\n",
    "        index_dict[word].append(doc)\n",
    "        \n",
    "        pass\n",
    "    \n",
    "    pass"
   ]
  },
  {
   "cell_type": "code",
   "execution_count": 5,
   "metadata": {},
   "outputs": [
    {
     "data": {
      "text/plain": [
       "defaultdict(list,\n",
       "            {'coffee': ['coffee_guide'],\n",
       "             'should': ['coffee_guide'],\n",
       "             'have': ['coffee_guide'],\n",
       "             'water': ['coffee_guide', 'making_pizza'],\n",
       "             'but': ['coffee_guide'],\n",
       "             'no': ['coffee_guide'],\n",
       "             'milk': ['coffee_guide'],\n",
       "             'pizza': ['making_pizza'],\n",
       "             'dough': ['making_pizza'],\n",
       "             'is': ['making_pizza'],\n",
       "             'just': ['making_pizza'],\n",
       "             'flour': ['making_pizza'],\n",
       "             'and': ['making_pizza'],\n",
       "             'yeast': ['making_pizza']})"
      ]
     },
     "execution_count": 5,
     "metadata": {},
     "output_type": "execute_result"
    }
   ],
   "source": [
    "# look at the index\n",
    "\n",
    "index_dict"
   ]
  },
  {
   "cell_type": "code",
   "execution_count": 6,
   "metadata": {},
   "outputs": [
    {
     "data": {
      "text/plain": [
       "['coffee_guide']"
      ]
     },
     "execution_count": 6,
     "metadata": {},
     "output_type": "execute_result"
    }
   ],
   "source": [
    "# do search\n",
    "\n",
    "index_dict[\"milk\"]"
   ]
  },
  {
   "cell_type": "code",
   "execution_count": 7,
   "metadata": {},
   "outputs": [
    {
     "data": {
      "text/plain": [
       "['coffee_guide', 'making_pizza']"
      ]
     },
     "execution_count": 7,
     "metadata": {},
     "output_type": "execute_result"
    }
   ],
   "source": [
    "# do search\n",
    "\n",
    "index_dict[\"water\"]"
   ]
  },
  {
   "cell_type": "code",
   "execution_count": null,
   "metadata": {},
   "outputs": [],
   "source": []
  }
 ],
 "metadata": {
  "kernelspec": {
   "display_name": "Python 3",
   "language": "python",
   "name": "python3"
  },
  "language_info": {
   "codemirror_mode": {
    "name": "ipython",
    "version": 3
   },
   "file_extension": ".py",
   "mimetype": "text/x-python",
   "name": "python",
   "nbconvert_exporter": "python",
   "pygments_lexer": "ipython3",
   "version": "3.6.6"
  }
 },
 "nbformat": 4,
 "nbformat_minor": 2
}
