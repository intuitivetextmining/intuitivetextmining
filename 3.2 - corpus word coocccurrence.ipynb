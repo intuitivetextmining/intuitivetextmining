{
 "cells": [
  {
   "cell_type": "code",
   "execution_count": 1,
   "metadata": {},
   "outputs": [],
   "source": [
    "# 3.2 - corpus word co-occurrence\n",
    "#\n",
    "# code for the Intuitive Text Mining book\n",
    "# Tariq Rashid, 2018"
   ]
  },
  {
   "cell_type": "code",
   "execution_count": 2,
   "metadata": {},
   "outputs": [],
   "source": [
    "# collections for counter\n",
    "import collections\n",
    "\n",
    "# pandas for dataframes\n",
    "import pandas\n",
    "\n",
    "# glob module for finding files that match a pattern, os module for file basename\n",
    "import glob\n",
    "import os"
   ]
  },
  {
   "cell_type": "code",
   "execution_count": 3,
   "metadata": {},
   "outputs": [],
   "source": [
    "# function to clean and simplify text for indexing and also querying\n",
    "\n",
    "def clean_text(text):\n",
    "    \n",
    "    # make lowercase\n",
    "    cleaned_text = text.lower()\n",
    "\n",
    "    # keep only normal letters a-z, numbers, spaces, and new lines, remove punctuation\n",
    "    cleaned_text = [char for char in cleaned_text if char.isalnum() or char==\" \" or char=='\\n']\n",
    "    cleaned_text = \"\".join(cleaned_text)\n",
    "    \n",
    "    return cleaned_text"
   ]
  },
  {
   "cell_type": "code",
   "execution_count": 4,
   "metadata": {},
   "outputs": [
    {
     "name": "stdout",
     "output_type": "stream",
     "text": [
      "reading from ... 15.txt\n",
      "reading from ... 01.txt\n",
      "reading from ... 00.txt\n",
      "reading from ... 14.txt\n",
      "reading from ... 02.txt\n",
      "reading from ... 16.txt\n",
      "reading from ... 17.txt\n",
      "reading from ... 03.txt\n",
      "reading from ... 07.txt\n",
      "reading from ... 13.txt\n",
      "reading from ... 12.txt\n",
      "reading from ... 06.txt\n",
      "reading from ... 10.txt\n",
      "reading from ... 04.txt\n",
      "reading from ... 05.txt\n",
      "reading from ... 11.txt\n",
      "reading from ... 08.txt\n",
      "reading from ... 20.txt\n",
      "reading from ... 21.txt\n",
      "reading from ... 09.txt\n",
      "reading from ... 19.txt\n",
      "reading from ... 18.txt\n"
     ]
    }
   ],
   "source": [
    "# read text documents and build occurrence matrix\n",
    "\n",
    "# corpus location and text filename pattern\n",
    "corpus_directory = 'data_sets/recipes/'\n",
    "text_filename_pattern = 'txt/??.txt'\n",
    "\n",
    "# list of text files\n",
    "list_of_text_files = glob.glob(corpus_directory + text_filename_pattern)\n",
    "\n",
    "# count cooccurrences of words\n",
    "word_pair_ctr = collections.Counter()\n",
    "\n",
    "# read text from every text file\n",
    "for document_file_path in list_of_text_files:\n",
    "    document_name = os.path.basename(document_file_path)\n",
    "    print(\"reading from ...\", document_name)\n",
    "    with open(document_file_path, \"r\") as f:\n",
    "        \n",
    "        # read text content of file\n",
    "        text_content = f.read()\n",
    "        \n",
    "        # clean text content\n",
    "        cleaned_text = clean_text(text_content)\n",
    "\n",
    "        # split the text into words\n",
    "        word_list = cleaned_text.split()\n",
    "        \n",
    "        # min word length\n",
    "        word_list = [word for word in word_list if len(word) > 4]\n",
    "        \n",
    "        # word pairs\n",
    "        first_words = word_list[:-1]\n",
    "        second_words = word_list[1:]\n",
    "        word_pair_list = zip(first_words, second_words)\n",
    "        \n",
    "        # reorder word pairs so (b,a) is counted as (a,b)\n",
    "        word_pair_list = [(a,b) if (a < b) else (b,a) for (a,b) in word_pair_list]\n",
    "\n",
    "        # counts for each word pair\n",
    "        word_pair_ctr += collections.Counter(word_pair_list)\n",
    "        \n",
    "        pass\n",
    "    pass"
   ]
  },
  {
   "cell_type": "code",
   "execution_count": 5,
   "metadata": {},
   "outputs": [
    {
     "data": {
      "text/plain": [
       "cheese          grated            16\n",
       "sauce           tomato            10\n",
       "bread           crumbs             7\n",
       "brown           stock              6\n",
       "sieve           through            5\n",
       "quantity        small              4\n",
       "paste           tomato             4\n",
       "salsa           sauce              4\n",
       "butter          piece              4\n",
       "little          pieces             4\n",
       "broth           water              4\n",
       "boiled          chicken            3\n",
       "froth           white              3\n",
       "concentrated    paste              3\n",
       "little          pepper             3\n",
       "board           bread              3\n",
       "pepper          season             3\n",
       "paste           sheet              3\n",
       "butter          cheese             3\n",
       "nutmeg          taste              3\n",
       "tablespoonfuls  three              3\n",
       "boiling         water              3\n",
       "celery          piece              3\n",
       "browned         butter             3\n",
       "sauce           white              3\n",
       "celery          parsley            2\n",
       "changing        water              2\n",
       "parsley         sprig              2\n",
       "adding          pepper             2\n",
       "eggyolks        three              2\n",
       "                                  ..\n",
       "olive           tomato             1\n",
       "cooking         spinach            1\n",
       "boiling         spinach            1\n",
       "chopping        water              1\n",
       "                spinach            1\n",
       "cooked          spinach            1\n",
       "                different          1\n",
       "butter          different          1\n",
       "stock           tablespoonfuls     1\n",
       "broth           onion              1\n",
       "chopped         onion              1\n",
       "butter          chopped            1\n",
       "                butter             1\n",
       "pinch           small              1\n",
       "parboil         stock              1\n",
       "other           season             1\n",
       "brown           serve              1\n",
       "melted          serve              1\n",
       "                seasoning          1\n",
       "green           place              1\n",
       "follows         place              1\n",
       "fireproof       follows            1\n",
       "                plate              1\n",
       "bottom          plate              1\n",
       "                grated             1\n",
       "cheese          dispose            1\n",
       "dispose         points             1\n",
       "asparagus       points             1\n",
       "                other              1\n",
       "after           contain            1\n",
       "Length: 1035, dtype: int64"
      ]
     },
     "execution_count": 5,
     "metadata": {},
     "output_type": "execute_result"
    }
   ],
   "source": [
    "# most common word pairs\n",
    "\n",
    "word_pair_series= pandas.Series(word_pair_ctr).sort_values(ascending=False)\n",
    "word_pair_series.sort_values(ascending=False)"
   ]
  },
  {
   "cell_type": "code",
   "execution_count": 6,
   "metadata": {},
   "outputs": [
    {
     "data": {
      "text/plain": [
       "pinch            2\n",
       "ground           1\n",
       "teaspoonful      1\n",
       "lukewarm         1\n",
       "layers           1\n",
       "tablespoonful    1\n",
       "sprinkle         1\n",
       "pepper           1\n",
       "moderately       1\n",
       "little           1\n",
       "marrow           1\n",
       "dtype: int64"
      ]
     },
     "execution_count": 6,
     "metadata": {},
     "output_type": "execute_result"
    }
   ],
   "source": [
    "word_pair_series['grated']"
   ]
  },
  {
   "cell_type": "code",
   "execution_count": 7,
   "metadata": {},
   "outputs": [
    {
     "data": {
      "text/plain": [
       "grated         16\n",
       "parmesan        2\n",
       "seasoned        1\n",
       "taste           1\n",
       "nutmeg          1\n",
       "crumbs          1\n",
       "three           1\n",
       "tablespoons     1\n",
       "little          1\n",
       "dispose         1\n",
       "melted          1\n",
       "crumb           1\n",
       "remove          1\n",
       "dtype: int64"
      ]
     },
     "execution_count": 7,
     "metadata": {},
     "output_type": "execute_result"
    }
   ],
   "source": [
    "word_pair_series['cheese']"
   ]
  },
  {
   "cell_type": "code",
   "execution_count": 43,
   "metadata": {},
   "outputs": [],
   "source": [
    "# create dataframe from series\n",
    "\n",
    "word_pair_df = word_pair_series.reset_index()\n",
    "word_pair_df.columns =['source', 'target', 'weight']"
   ]
  },
  {
   "cell_type": "code",
   "execution_count": 44,
   "metadata": {},
   "outputs": [],
   "source": [
    "import d3fdgraph"
   ]
  },
  {
   "cell_type": "code",
   "execution_count": 57,
   "metadata": {},
   "outputs": [
    {
     "data": {
      "text/html": [
       "<div id=\"p314159\"></div>\n",
       "<div>force-directed graph</div>\n",
       "\n",
       "<style>\n",
       "    .links line {\n",
       "        stroke: #999;\n",
       "        stroke-opacity: .2;\n",
       "    }\n",
       "    .nodes circle {\n",
       "        pointer-events: all;\n",
       "        stroke: #fff;\n",
       "        fill: #a55;\n",
       "        stroke-width: 1.5px;\n",
       "        opacity: 0.7;\n",
       "    }\n",
       "    .nodes text {\n",
       "        pointer-events: none;\n",
       "        font: 10px sans-serif;\n",
       "        fill: #333;\n",
       "        opacity: .5;\n",
       "    }\n",
       "</style>"
      ]
     },
     "metadata": {},
     "output_type": "display_data"
    },
    {
     "data": {
      "application/javascript": [
       "// require is how jupyter manages javascript libraries\n",
       "require.config({\n",
       "    paths: {\n",
       "        d3: 'https://d3js.org/d3.v5.min'\n",
       "    }\n",
       "});\n",
       "\n",
       "require([\"d3\"], function(d3) {\n",
       "    //console.log(d3.version);\n",
       "\n",
       "    // size of plot\n",
       "    const width = 800;\n",
       "    const height = 600;\n",
       "\n",
       "    // links and nodes data\n",
       "    const links = [{'weight': 16, 'source': 'cheese', 'target': 'grated'}, {'weight': 3, 'source': 'cheese', 'target': 'butter'}, {'weight': 2, 'source': 'cheese', 'target': 'parmesan'}, {'weight': 2, 'source': 'grated', 'target': 'pinch'}, {'weight': 2, 'source': 'grated', 'target': 'bread'}, {'weight': 10, 'source': 'sauce', 'target': 'tomato'}, {'weight': 4, 'source': 'sauce', 'target': 'salsa'}, {'weight': 3, 'source': 'sauce', 'target': 'white'}, {'weight': 2, 'source': 'sauce', 'target': 'onion'}, {'weight': 2, 'source': 'sauce', 'target': 'bolognese'}, {'weight': 4, 'source': 'tomato', 'target': 'paste'}, {'weight': 7, 'source': 'bread', 'target': 'crumbs'}, {'weight': 3, 'source': 'bread', 'target': 'board'}, {'weight': 2, 'source': 'bread', 'target': 'composed'}, {'weight': 2, 'source': 'bread', 'target': 'stale'}, {'weight': 6, 'source': 'brown', 'target': 'stock'}, {'weight': 2, 'source': 'brown', 'target': 'little'}, {'weight': 2, 'source': 'brown', 'target': 'codfish'}, {'weight': 2, 'source': 'brown', 'target': 'butter'}, {'weight': 5, 'source': 'sieve', 'target': 'through'}, {'weight': 4, 'source': 'broth', 'target': 'water'}, {'weight': 2, 'source': 'broth', 'target': 'tablespoonfuls'}, {'weight': 2, 'source': 'broth', 'target': 'chicken'}, {'weight': 3, 'source': 'water', 'target': 'boiling'}, {'weight': 2, 'source': 'water', 'target': 'pieces'}, {'weight': 2, 'source': 'water', 'target': 'minutes'}, {'weight': 2, 'source': 'water', 'target': 'throw'}, {'weight': 2, 'source': 'water', 'target': 'little'}, {'weight': 2, 'source': 'water', 'target': 'changing'}, {'weight': 4, 'source': 'little', 'target': 'pieces'}, {'weight': 3, 'source': 'little', 'target': 'pepper'}, {'weight': 2, 'source': 'little', 'target': 'sticks'}, {'weight': 2, 'source': 'little', 'target': 'balls'}, {'weight': 2, 'source': 'little', 'target': 'little'}, {'weight': 2, 'source': 'little', 'target': 'corned'}, {'weight': 2, 'source': 'little', 'target': 'pound'}, {'weight': 2, 'source': 'little', 'target': 'adding'}, {'weight': 2, 'source': 'pieces', 'target': 'large'}, {'weight': 4, 'source': 'quantity', 'target': 'small'}, {'weight': 2, 'source': 'small', 'target': 'adding'}, {'weight': 4, 'source': 'butter', 'target': 'piece'}, {'weight': 3, 'source': 'butter', 'target': 'browned'}, {'weight': 2, 'source': 'butter', 'target': 'olive'}, {'weight': 2, 'source': 'butter', 'target': 'flour'}, {'weight': 2, 'source': 'butter', 'target': 'pepper'}, {'weight': 3, 'source': 'piece', 'target': 'celery'}, {'weight': 3, 'source': 'paste', 'target': 'sheet'}, {'weight': 3, 'source': 'paste', 'target': 'concentrated'}, {'weight': 2, 'source': 'paste', 'target': 'diluted'}, {'weight': 2, 'source': 'paste', 'target': 'whole'}, {'weight': 2, 'source': 'browned', 'target': 'begins'}, {'weight': 2, 'source': 'celery', 'target': 'carrot'}, {'weight': 2, 'source': 'celery', 'target': 'parsley'}, {'weight': 3, 'source': 'tablespoonfuls', 'target': 'three'}, {'weight': 2, 'source': 'three', 'target': 'yolks'}, {'weight': 2, 'source': 'three', 'target': 'eggyolks'}, {'weight': 2, 'source': 'three', 'target': 'beaten'}, {'weight': 3, 'source': 'nutmeg', 'target': 'taste'}, {'weight': 2, 'source': 'taste', 'target': 'remove'}, {'weight': 3, 'source': 'white', 'target': 'froth'}, {'weight': 3, 'source': 'boiled', 'target': 'chicken'}, {'weight': 2, 'source': 'boiled', 'target': 'roast'}, {'weight': 2, 'source': 'chicken', 'target': 'turkey'}, {'weight': 3, 'source': 'pepper', 'target': 'season'}, {'weight': 2, 'source': 'pepper', 'target': 'adding'}, {'weight': 2, 'source': 'olive', 'target': 'frying'}, {'weight': 2, 'source': 'after', 'target': 'being'}, {'weight': 2, 'source': 'fresh', 'target': 'tomatoes'}, {'weight': 2, 'source': 'tomatoes', 'target': 'stuffed'}, {'weight': 2, 'source': 'carrot', 'target': 'onion'}, {'weight': 2, 'source': 'onion', 'target': 'parsley'}, {'weight': 2, 'source': 'flour', 'target': 'superfluous'}, {'weight': 2, 'source': 'flour', 'target': 'tablespoonful'}, {'weight': 2, 'source': 'lemon', 'target': 'serve'}, {'weight': 2, 'source': 'lemon', 'target': 'juice'}, {'weight': 2, 'source': 'macaroni', 'target': 'spaghetti'}, {'weight': 2, 'source': 'cooking', 'target': 'sufficient'}, {'weight': 2, 'source': 'leaves', 'target': 'outside'}, {'weight': 2, 'source': 'leaves', 'target': 'artichokes'}, {'weight': 2, 'source': 'everything', 'target': 'together'}, {'weight': 2, 'source': 'together', 'target': 'mixed'}, {'weight': 2, 'source': 'asparagus', 'target': 'sparagi'}, {'weight': 2, 'source': 'stuffed', 'target': 'zucchini'}, {'weight': 2, 'source': 'parsley', 'target': 'sprig'}, {'weight': 2, 'source': 'parmesan', 'target': 'swiss'}, {'weight': 2, 'source': 'eggplants', 'target': 'melanzane'}];\n",
       "    const nodes = [{'id': 'cheese'}, {'id': 'grated'}, {'id': 'sauce'}, {'id': 'tomato'}, {'id': 'bread'}, {'id': 'crumbs'}, {'id': 'brown'}, {'id': 'stock'}, {'id': 'sieve'}, {'id': 'through'}, {'id': 'broth'}, {'id': 'water'}, {'id': 'little'}, {'id': 'pieces'}, {'id': 'quantity'}, {'id': 'small'}, {'id': 'butter'}, {'id': 'piece'}, {'id': 'salsa'}, {'id': 'paste'}, {'id': 'browned'}, {'id': 'celery'}, {'id': 'boiling'}, {'id': 'tablespoonfuls'}, {'id': 'three'}, {'id': 'nutmeg'}, {'id': 'taste'}, {'id': 'white'}, {'id': 'boiled'}, {'id': 'chicken'}, {'id': 'sheet'}, {'id': 'pepper'}, {'id': 'season'}, {'id': 'board'}, {'id': 'concentrated'}, {'id': 'froth'}, {'id': 'olive'}, {'id': 'after'}, {'id': 'being'}, {'id': 'diluted'}, {'id': 'fresh'}, {'id': 'tomatoes'}, {'id': 'carrot'}, {'id': 'onion'}, {'id': 'frying'}, {'id': 'codfish'}, {'id': 'flour'}, {'id': 'superfluous'}, {'id': 'lemon'}, {'id': 'serve'}, {'id': 'large'}, {'id': 'sticks'}, {'id': 'pinch'}, {'id': 'tablespoonful'}, {'id': 'macaroni'}, {'id': 'spaghetti'}, {'id': 'minutes'}, {'id': 'cooking'}, {'id': 'sufficient'}, {'id': 'whole'}, {'id': 'leaves'}, {'id': 'outside'}, {'id': 'balls'}, {'id': 'everything'}, {'id': 'together'}, {'id': 'juice'}, {'id': 'mixed'}, {'id': 'throw'}, {'id': 'composed'}, {'id': 'artichokes'}, {'id': 'asparagus'}, {'id': 'sparagi'}, {'id': 'yolks'}, {'id': 'stale'}, {'id': 'stuffed'}, {'id': 'changing'}, {'id': 'begins'}, {'id': 'corned'}, {'id': 'eggyolks'}, {'id': 'adding'}, {'id': 'roast'}, {'id': 'parsley'}, {'id': 'sprig'}, {'id': 'pound'}, {'id': 'bolognese'}, {'id': 'zucchini'}, {'id': 'remove'}, {'id': 'parmesan'}, {'id': 'swiss'}, {'id': 'eggplants'}, {'id': 'melanzane'}, {'id': 'beaten'}, {'id': 'turkey'}];\n",
       "\n",
       "\n",
       "    // create simulation\n",
       "    const simulation = d3.forceSimulation(nodes)\n",
       "    .force(\"link\", d3.forceLink(links).id(d => d.id).distance(d => 10 / d.weight))\n",
       "    .force(\"charge\", d3.forceManyBody())\n",
       "    .force(\"center\", d3.forceCenter(width / 2, height / 2));\n",
       "\n",
       "    /// dragging nodes\n",
       "    const drag = simulation => {\n",
       "\n",
       "        function dragstarted(d) {\n",
       "        if (!d3.event.active) simulation.alphaTarget(0.3).restart();\n",
       "            d.fx = d.x;\n",
       "            d.fy = d.y;\n",
       "        }\n",
       "\n",
       "        function dragged(d) {\n",
       "            d.fx = d3.event.x;\n",
       "            d.fy = d3.event.y;\n",
       "        }\n",
       "\n",
       "        function dragended(d) {\n",
       "        if (!d3.event.active) simulation.alphaTarget(0);\n",
       "            d.fx = null;\n",
       "            d.fy = null;\n",
       "        }\n",
       "\n",
       "        return d3.drag()\n",
       "          .on(\"start\", dragstarted)\n",
       "          .on(\"drag\", dragged)\n",
       "          .on(\"end\", dragended);\n",
       "    }\n",
       "\n",
       "    // select HTML element and attach SVG to it\n",
       "    const svg = d3.select('#p314159')\n",
       "        .append(\"svg\")\n",
       "        .attr(\"width\", width)\n",
       "        .attr(\"height\", height);\n",
       "\n",
       "    // add links to svg element\n",
       "    const link = svg.append(\"g\")\n",
       "            .attr(\"class\", \"links\")\n",
       "        .selectAll(\"line\")\n",
       "        .data(links)\n",
       "        .enter().append(\"line\")\n",
       "            .attr(\"stroke-width\", d => Math.sqrt(d.weight));\n",
       "\n",
       "    const node = svg.append(\"g\")\n",
       "            .attr(\"class\", \"nodes\")\n",
       "        .selectAll(\"g\")\n",
       "        .data(nodes)\n",
       "        .enter().append(\"g\");\n",
       "\n",
       "\n",
       "    const circle = node.append(\"circle\")\n",
       "            .attr(\"r\", 4.5)\n",
       "            .call(drag(simulation));\n",
       "\n",
       "    // svg text labels for eachnode\n",
       "    const label = node.append(\"text\")\n",
       "            .attr(\"dx\", 10)\n",
       "            .attr(\"dy\", \".35em\")\n",
       "            .text(d => d.id);\n",
       "\n",
       "\n",
       "    // update svg on simulation ticks\n",
       "    simulation.on(\"tick\", () => {\n",
       "        link\n",
       "            .attr(\"x1\", d => d.source.x)\n",
       "            .attr(\"y1\", d => d.source.y)\n",
       "            .attr(\"x2\", d => d.target.x)\n",
       "            .attr(\"y2\", d => d.target.y);\n",
       "\n",
       "        circle\n",
       "            .attr(\"cx\", d => d.x)\n",
       "            .attr(\"cy\", d => d.y);\n",
       "\n",
       "        label\n",
       "            .attr(\"x\", d => d.x)\n",
       "            .attr(\"y\", d => d.y);\n",
       "    });\n",
       "\n",
       "\n",
       "    //return svg.node();\n",
       "\n",
       "});\n",
       "\n"
      ]
     },
     "metadata": {},
     "output_type": "display_data"
    }
   ],
   "source": [
    "d3fdgraph.plot_force_directed_graph(word_pair_df[word_pair_df['weight']>1])"
   ]
  },
  {
   "cell_type": "code",
   "execution_count": 55,
   "metadata": {},
   "outputs": [
    {
     "data": {
      "text/html": [
       "<div>\n",
       "<style scoped>\n",
       "    .dataframe tbody tr th:only-of-type {\n",
       "        vertical-align: middle;\n",
       "    }\n",
       "\n",
       "    .dataframe tbody tr th {\n",
       "        vertical-align: top;\n",
       "    }\n",
       "\n",
       "    .dataframe thead th {\n",
       "        text-align: right;\n",
       "    }\n",
       "</style>\n",
       "<table border=\"1\" class=\"dataframe\">\n",
       "  <thead>\n",
       "    <tr style=\"text-align: right;\">\n",
       "      <th></th>\n",
       "      <th>source</th>\n",
       "      <th>target</th>\n",
       "      <th>weight</th>\n",
       "    </tr>\n",
       "  </thead>\n",
       "  <tbody>\n",
       "    <tr>\n",
       "      <th>0</th>\n",
       "      <td>cheese</td>\n",
       "      <td>grated</td>\n",
       "      <td>16</td>\n",
       "    </tr>\n",
       "    <tr>\n",
       "      <th>1</th>\n",
       "      <td>sauce</td>\n",
       "      <td>tomato</td>\n",
       "      <td>10</td>\n",
       "    </tr>\n",
       "    <tr>\n",
       "      <th>2</th>\n",
       "      <td>bread</td>\n",
       "      <td>crumbs</td>\n",
       "      <td>7</td>\n",
       "    </tr>\n",
       "    <tr>\n",
       "      <th>3</th>\n",
       "      <td>brown</td>\n",
       "      <td>stock</td>\n",
       "      <td>6</td>\n",
       "    </tr>\n",
       "    <tr>\n",
       "      <th>4</th>\n",
       "      <td>sieve</td>\n",
       "      <td>through</td>\n",
       "      <td>5</td>\n",
       "    </tr>\n",
       "  </tbody>\n",
       "</table>\n",
       "</div>"
      ],
      "text/plain": [
       "   source   target  weight\n",
       "0  cheese   grated      16\n",
       "1   sauce   tomato      10\n",
       "2   bread   crumbs       7\n",
       "3   brown    stock       6\n",
       "4   sieve  through       5"
      ]
     },
     "execution_count": 55,
     "metadata": {},
     "output_type": "execute_result"
    }
   ],
   "source": [
    "word_pair_df.head()"
   ]
  },
  {
   "cell_type": "code",
   "execution_count": null,
   "metadata": {},
   "outputs": [],
   "source": []
  }
 ],
 "metadata": {
  "kernelspec": {
   "display_name": "Python 3",
   "language": "python",
   "name": "python3"
  },
  "language_info": {
   "codemirror_mode": {
    "name": "ipython",
    "version": 3
   },
   "file_extension": ".py",
   "mimetype": "text/x-python",
   "name": "python",
   "nbconvert_exporter": "python",
   "pygments_lexer": "ipython3",
   "version": "3.7.1"
  }
 },
 "nbformat": 4,
 "nbformat_minor": 2
}
