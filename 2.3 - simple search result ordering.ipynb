{
 "cells": [
  {
   "cell_type": "code",
   "execution_count": 33,
   "metadata": {},
   "outputs": [],
   "source": [
    "# 2.3 - very simple search with result ordering\n",
    "#\n",
    "# code for the Intuitive Text Mining book\n",
    "# Tariq Rashid, 2018"
   ]
  },
  {
   "cell_type": "code",
   "execution_count": 34,
   "metadata": {},
   "outputs": [],
   "source": [
    "# collections for Counte\n",
    "\n",
    "import collections\n",
    "\n",
    "# pandas for dataframes\n",
    "\n",
    "import pandas"
   ]
  },
  {
   "cell_type": "code",
   "execution_count": 35,
   "metadata": {},
   "outputs": [
    {
     "name": "stdout",
     "output_type": "stream",
     "text": [
      "dict_keys(['doc_1', 'doc_2'])\n",
      "dict_values([['he', 'carved', 'the', 'wooden', 'owl', 'he', 'saw', 'the', 'owl', 'resting', 'on', 'a', 'branch', 'the', 'owl', 'babies', 'lived', 'in', 'a', 'tree'], ['the', 'cat', 'sat', 'on', 'the', 'mat', 'the', 'owl', 'sat', 'in', 'a', 'tree', 'branch', 'the', 'mouse', 'stayed', 'in', 'its', 'home']])\n"
     ]
    }
   ],
   "source": [
    "# simple documents, with names and content\n",
    "\n",
    "doc_1_name = \"doc_1\"\n",
    "doc_1_text = \"he carved the wooden owl he saw the owl resting on a branch the owl babies lived in a tree\"\n",
    "\n",
    "doc_2_name = \"doc_2\"\n",
    "doc_2_text = \"the cat sat on the mat the owl sat in a tree branch the mouse stayed in its home\"\n",
    "\n",
    "# collate into a corpus dictionary\n",
    "corpus = {\n",
    "    doc_1_name : doc_1_text.split(),\n",
    "    doc_2_name : doc_2_text.split()\n",
    "}\n",
    "\n",
    "# print out document names and values\n",
    "print(corpus.keys())\n",
    "print(corpus.values())"
   ]
  },
  {
   "cell_type": "code",
   "execution_count": 46,
   "metadata": {},
   "outputs": [
    {
     "name": "stdout",
     "output_type": "stream",
     "text": [
      "indexing .. doc_1\n",
      "indexing .. doc_2\n"
     ]
    }
   ],
   "source": [
    "# count occurrences of words\n",
    "\n",
    "dataframe_list = []\n",
    "\n",
    "# work through all words in all documents\n",
    "for doc in corpus.keys():\n",
    "    print(\"indexing ..\", doc)\n",
    "    words_ctr = collections.Counter(corpus[doc])\n",
    "    \n",
    "    dataframe_list.append( pandas.DataFrame.from_dict(words_ctr, orient='index', columns=[doc]) )\n",
    "    \n",
    "    pass\n",
    "\n",
    "# join together the per-doc dataframes\n",
    "occurrence_matrix = pandas.concat(df_list, axis=1, sort=False)\n",
    "\n",
    "# replace empty cells with 0\n",
    "occurrence_matrix.fillna(0, inplace=True)\n",
    "\n",
    "# change number type from float to integer\n",
    "occurrence_matrix = occurrence_matrix.astype(int)"
   ]
  },
  {
   "cell_type": "code",
   "execution_count": 48,
   "metadata": {},
   "outputs": [
    {
     "data": {
      "text/html": [
       "<div>\n",
       "<style scoped>\n",
       "    .dataframe tbody tr th:only-of-type {\n",
       "        vertical-align: middle;\n",
       "    }\n",
       "\n",
       "    .dataframe tbody tr th {\n",
       "        vertical-align: top;\n",
       "    }\n",
       "\n",
       "    .dataframe thead th {\n",
       "        text-align: right;\n",
       "    }\n",
       "</style>\n",
       "<table border=\"1\" class=\"dataframe\">\n",
       "  <thead>\n",
       "    <tr style=\"text-align: right;\">\n",
       "      <th></th>\n",
       "      <th>doc_1</th>\n",
       "      <th>doc_2</th>\n",
       "    </tr>\n",
       "  </thead>\n",
       "  <tbody>\n",
       "    <tr>\n",
       "      <th>he</th>\n",
       "      <td>2</td>\n",
       "      <td>0</td>\n",
       "    </tr>\n",
       "    <tr>\n",
       "      <th>carved</th>\n",
       "      <td>1</td>\n",
       "      <td>0</td>\n",
       "    </tr>\n",
       "    <tr>\n",
       "      <th>the</th>\n",
       "      <td>3</td>\n",
       "      <td>4</td>\n",
       "    </tr>\n",
       "    <tr>\n",
       "      <th>wooden</th>\n",
       "      <td>1</td>\n",
       "      <td>0</td>\n",
       "    </tr>\n",
       "    <tr>\n",
       "      <th>owl</th>\n",
       "      <td>3</td>\n",
       "      <td>1</td>\n",
       "    </tr>\n",
       "    <tr>\n",
       "      <th>saw</th>\n",
       "      <td>1</td>\n",
       "      <td>0</td>\n",
       "    </tr>\n",
       "    <tr>\n",
       "      <th>resting</th>\n",
       "      <td>1</td>\n",
       "      <td>0</td>\n",
       "    </tr>\n",
       "    <tr>\n",
       "      <th>on</th>\n",
       "      <td>1</td>\n",
       "      <td>1</td>\n",
       "    </tr>\n",
       "    <tr>\n",
       "      <th>a</th>\n",
       "      <td>2</td>\n",
       "      <td>1</td>\n",
       "    </tr>\n",
       "    <tr>\n",
       "      <th>branch</th>\n",
       "      <td>1</td>\n",
       "      <td>1</td>\n",
       "    </tr>\n",
       "    <tr>\n",
       "      <th>babies</th>\n",
       "      <td>1</td>\n",
       "      <td>0</td>\n",
       "    </tr>\n",
       "    <tr>\n",
       "      <th>lived</th>\n",
       "      <td>1</td>\n",
       "      <td>0</td>\n",
       "    </tr>\n",
       "    <tr>\n",
       "      <th>in</th>\n",
       "      <td>1</td>\n",
       "      <td>2</td>\n",
       "    </tr>\n",
       "    <tr>\n",
       "      <th>tree</th>\n",
       "      <td>1</td>\n",
       "      <td>1</td>\n",
       "    </tr>\n",
       "    <tr>\n",
       "      <th>cat</th>\n",
       "      <td>0</td>\n",
       "      <td>1</td>\n",
       "    </tr>\n",
       "    <tr>\n",
       "      <th>sat</th>\n",
       "      <td>0</td>\n",
       "      <td>2</td>\n",
       "    </tr>\n",
       "    <tr>\n",
       "      <th>mat</th>\n",
       "      <td>0</td>\n",
       "      <td>1</td>\n",
       "    </tr>\n",
       "    <tr>\n",
       "      <th>mouse</th>\n",
       "      <td>0</td>\n",
       "      <td>1</td>\n",
       "    </tr>\n",
       "    <tr>\n",
       "      <th>stayed</th>\n",
       "      <td>0</td>\n",
       "      <td>1</td>\n",
       "    </tr>\n",
       "    <tr>\n",
       "      <th>its</th>\n",
       "      <td>0</td>\n",
       "      <td>1</td>\n",
       "    </tr>\n",
       "    <tr>\n",
       "      <th>home</th>\n",
       "      <td>0</td>\n",
       "      <td>1</td>\n",
       "    </tr>\n",
       "  </tbody>\n",
       "</table>\n",
       "</div>"
      ],
      "text/plain": [
       "         doc_1  doc_2\n",
       "he           2      0\n",
       "carved       1      0\n",
       "the          3      4\n",
       "wooden       1      0\n",
       "owl          3      1\n",
       "saw          1      0\n",
       "resting      1      0\n",
       "on           1      1\n",
       "a            2      1\n",
       "branch       1      1\n",
       "babies       1      0\n",
       "lived        1      0\n",
       "in           1      2\n",
       "tree         1      1\n",
       "cat          0      1\n",
       "sat          0      2\n",
       "mat          0      1\n",
       "mouse        0      1\n",
       "stayed       0      1\n",
       "its          0      1\n",
       "home         0      1"
      ]
     },
     "execution_count": 48,
     "metadata": {},
     "output_type": "execute_result"
    }
   ],
   "source": [
    "# display word occurrence matrix\n",
    "\n",
    "occurrence_matrix"
   ]
  },
  {
   "cell_type": "code",
   "execution_count": 49,
   "metadata": {},
   "outputs": [
    {
     "data": {
      "text/plain": [
       "doc_1    3\n",
       "doc_2    1\n",
       "Name: owl, dtype: int64"
      ]
     },
     "execution_count": 49,
     "metadata": {},
     "output_type": "execute_result"
    }
   ],
   "source": [
    "# do search\n",
    "\n",
    "occurrence_matrix.loc[\"owl\"].sort_values(ascending=False)"
   ]
  },
  {
   "cell_type": "code",
   "execution_count": 50,
   "metadata": {},
   "outputs": [
    {
     "data": {
      "text/plain": [
       "doc_2    4\n",
       "doc_1    3\n",
       "Name: the, dtype: int64"
      ]
     },
     "execution_count": 50,
     "metadata": {},
     "output_type": "execute_result"
    }
   ],
   "source": [
    "# do search\n",
    "\n",
    "occurrence_matrix.loc[\"the\"].sort_values(ascending=False)"
   ]
  },
  {
   "cell_type": "code",
   "execution_count": null,
   "metadata": {},
   "outputs": [],
   "source": []
  }
 ],
 "metadata": {
  "kernelspec": {
   "display_name": "Python 3",
   "language": "python",
   "name": "python3"
  },
  "language_info": {
   "codemirror_mode": {
    "name": "ipython",
    "version": 3
   },
   "file_extension": ".py",
   "mimetype": "text/x-python",
   "name": "python",
   "nbconvert_exporter": "python",
   "pygments_lexer": "ipython3",
   "version": "3.7.0"
  }
 },
 "nbformat": 4,
 "nbformat_minor": 2
}
