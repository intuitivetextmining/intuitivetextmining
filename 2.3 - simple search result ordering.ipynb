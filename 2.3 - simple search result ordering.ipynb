{
 "cells": [
  {
   "cell_type": "code",
   "execution_count": 1,
   "metadata": {},
   "outputs": [],
   "source": [
    "# 2.3 - very simple search with result ordering\n",
    "#\n",
    "# code for the Intuitive Text Mining book\n",
    "# Tariq Rashid, 2018"
   ]
  },
  {
   "cell_type": "code",
   "execution_count": 6,
   "metadata": {},
   "outputs": [],
   "source": [
    "# pandas for dataframes\n",
    "\n",
    "import pandas"
   ]
  },
  {
   "cell_type": "code",
   "execution_count": 22,
   "metadata": {},
   "outputs": [
    {
     "name": "stdout",
     "output_type": "stream",
     "text": [
      "dict_keys(['doc_1', 'doc_2'])\n",
      "dict_values([['he', 'carved', 'the', 'wooden', 'owl', 'he', 'saw', 'the', 'owl', 'resting', 'on', 'a', 'branch', 'the', 'owl', 'babies', 'lived', 'in', 'a', 'tree'], ['the', 'cat', 'sat', 'on', 'the', 'mat', 'the', 'owl', 'sat', 'in', 'a', 'tree', 'branch', 'the', 'mouse', 'stayed', 'in', 'its', 'home']])\n"
     ]
    }
   ],
   "source": [
    "# simple documents, with names and content\n",
    "\n",
    "doc_1_name = \"doc_1\"\n",
    "doc_1_text = \"he carved the wooden owl he saw the owl resting on a branch the owl babies lived in a tree\"\n",
    "\n",
    "doc_2_name = \"doc_2\"\n",
    "doc_2_text = \"the cat sat on the mat the owl sat in a tree branch the mouse stayed in its home\"\n",
    "\n",
    "# collate into a corpus dictionary\n",
    "corpus = {\n",
    "    doc_1_name : doc_1_text.split(),\n",
    "    doc_2_name : doc_2_text.split()\n",
    "}\n",
    "\n",
    "# print out document names and values\n",
    "print(corpus.keys())\n",
    "print(corpus.values())"
   ]
  },
  {
   "cell_type": "code",
   "execution_count": 123,
   "metadata": {},
   "outputs": [
    {
     "name": "stdout",
     "output_type": "stream",
     "text": [
      "indexing .. doc_1\n",
      "indexing .. doc_2\n"
     ]
    }
   ],
   "source": [
    "# create occurrence matrix\n",
    "\n",
    "occurrence_matrix = pandas.DataFrame(columns=list(corpus.keys()))\n",
    "occurrence_matrix.index.name ='word'\n",
    "\n",
    "# work through all words in all documents\n",
    "for doc in corpus.keys():\n",
    "    print(\"indexing ..\", doc)\n",
    "    \n",
    "    for word in corpus[doc]:\n",
    "        #print(\"  \", word)\n",
    "        \n",
    "        # add word to matrix\n",
    "        if (word not in occurrence_matrix.index.values):\n",
    "            occurrence_matrix.loc[word,doc] = 1\n",
    "        else:\n",
    "            occurrence_matrix.loc[word,doc] += 1\n",
    "        \n",
    "        occurrence_matrix.fillna(0, inplace=True)\n",
    "        pass\n",
    "    \n",
    "    pass\n",
    "\n",
    "# set empty values to zero\n",
    "#occurrence_matrix.fillna(0, inplace=True)"
   ]
  },
  {
   "cell_type": "code",
   "execution_count": 124,
   "metadata": {},
   "outputs": [
    {
     "data": {
      "text/html": [
       "<div>\n",
       "<style scoped>\n",
       "    .dataframe tbody tr th:only-of-type {\n",
       "        vertical-align: middle;\n",
       "    }\n",
       "\n",
       "    .dataframe tbody tr th {\n",
       "        vertical-align: top;\n",
       "    }\n",
       "\n",
       "    .dataframe thead th {\n",
       "        text-align: right;\n",
       "    }\n",
       "</style>\n",
       "<table border=\"1\" class=\"dataframe\">\n",
       "  <thead>\n",
       "    <tr style=\"text-align: right;\">\n",
       "      <th></th>\n",
       "      <th>doc_1</th>\n",
       "      <th>doc_2</th>\n",
       "    </tr>\n",
       "    <tr>\n",
       "      <th>word</th>\n",
       "      <th></th>\n",
       "      <th></th>\n",
       "    </tr>\n",
       "  </thead>\n",
       "  <tbody>\n",
       "    <tr>\n",
       "      <th>he</th>\n",
       "      <td>2.0</td>\n",
       "      <td>0.0</td>\n",
       "    </tr>\n",
       "    <tr>\n",
       "      <th>carved</th>\n",
       "      <td>1.0</td>\n",
       "      <td>0.0</td>\n",
       "    </tr>\n",
       "    <tr>\n",
       "      <th>the</th>\n",
       "      <td>3.0</td>\n",
       "      <td>4.0</td>\n",
       "    </tr>\n",
       "    <tr>\n",
       "      <th>wooden</th>\n",
       "      <td>1.0</td>\n",
       "      <td>0.0</td>\n",
       "    </tr>\n",
       "    <tr>\n",
       "      <th>owl</th>\n",
       "      <td>3.0</td>\n",
       "      <td>1.0</td>\n",
       "    </tr>\n",
       "    <tr>\n",
       "      <th>saw</th>\n",
       "      <td>1.0</td>\n",
       "      <td>0.0</td>\n",
       "    </tr>\n",
       "    <tr>\n",
       "      <th>resting</th>\n",
       "      <td>1.0</td>\n",
       "      <td>0.0</td>\n",
       "    </tr>\n",
       "    <tr>\n",
       "      <th>on</th>\n",
       "      <td>1.0</td>\n",
       "      <td>1.0</td>\n",
       "    </tr>\n",
       "    <tr>\n",
       "      <th>a</th>\n",
       "      <td>2.0</td>\n",
       "      <td>1.0</td>\n",
       "    </tr>\n",
       "    <tr>\n",
       "      <th>branch</th>\n",
       "      <td>1.0</td>\n",
       "      <td>1.0</td>\n",
       "    </tr>\n",
       "    <tr>\n",
       "      <th>babies</th>\n",
       "      <td>1.0</td>\n",
       "      <td>0.0</td>\n",
       "    </tr>\n",
       "    <tr>\n",
       "      <th>lived</th>\n",
       "      <td>1.0</td>\n",
       "      <td>0.0</td>\n",
       "    </tr>\n",
       "    <tr>\n",
       "      <th>in</th>\n",
       "      <td>1.0</td>\n",
       "      <td>2.0</td>\n",
       "    </tr>\n",
       "    <tr>\n",
       "      <th>tree</th>\n",
       "      <td>1.0</td>\n",
       "      <td>1.0</td>\n",
       "    </tr>\n",
       "    <tr>\n",
       "      <th>cat</th>\n",
       "      <td>0.0</td>\n",
       "      <td>1.0</td>\n",
       "    </tr>\n",
       "    <tr>\n",
       "      <th>sat</th>\n",
       "      <td>0.0</td>\n",
       "      <td>2.0</td>\n",
       "    </tr>\n",
       "    <tr>\n",
       "      <th>mat</th>\n",
       "      <td>0.0</td>\n",
       "      <td>1.0</td>\n",
       "    </tr>\n",
       "    <tr>\n",
       "      <th>mouse</th>\n",
       "      <td>0.0</td>\n",
       "      <td>1.0</td>\n",
       "    </tr>\n",
       "    <tr>\n",
       "      <th>stayed</th>\n",
       "      <td>0.0</td>\n",
       "      <td>1.0</td>\n",
       "    </tr>\n",
       "    <tr>\n",
       "      <th>its</th>\n",
       "      <td>0.0</td>\n",
       "      <td>1.0</td>\n",
       "    </tr>\n",
       "    <tr>\n",
       "      <th>home</th>\n",
       "      <td>0.0</td>\n",
       "      <td>1.0</td>\n",
       "    </tr>\n",
       "  </tbody>\n",
       "</table>\n",
       "</div>"
      ],
      "text/plain": [
       "         doc_1  doc_2\n",
       "word                 \n",
       "he         2.0    0.0\n",
       "carved     1.0    0.0\n",
       "the        3.0    4.0\n",
       "wooden     1.0    0.0\n",
       "owl        3.0    1.0\n",
       "saw        1.0    0.0\n",
       "resting    1.0    0.0\n",
       "on         1.0    1.0\n",
       "a          2.0    1.0\n",
       "branch     1.0    1.0\n",
       "babies     1.0    0.0\n",
       "lived      1.0    0.0\n",
       "in         1.0    2.0\n",
       "tree       1.0    1.0\n",
       "cat        0.0    1.0\n",
       "sat        0.0    2.0\n",
       "mat        0.0    1.0\n",
       "mouse      0.0    1.0\n",
       "stayed     0.0    1.0\n",
       "its        0.0    1.0\n",
       "home       0.0    1.0"
      ]
     },
     "execution_count": 124,
     "metadata": {},
     "output_type": "execute_result"
    }
   ],
   "source": [
    "# display the occurrence matrix\n",
    "occurrence_matrix"
   ]
  },
  {
   "cell_type": "code",
   "execution_count": 125,
   "metadata": {},
   "outputs": [
    {
     "data": {
      "text/plain": [
       "doc_1    3.0\n",
       "doc_2    1.0\n",
       "Name: owl, dtype: float64"
      ]
     },
     "execution_count": 125,
     "metadata": {},
     "output_type": "execute_result"
    }
   ],
   "source": [
    "# do search\n",
    "\n",
    "occurrence_matrix.loc[\"owl\"].sort_values(ascending=False)"
   ]
  },
  {
   "cell_type": "code",
   "execution_count": 126,
   "metadata": {},
   "outputs": [
    {
     "data": {
      "text/plain": [
       "doc_2    4.0\n",
       "doc_1    3.0\n",
       "Name: the, dtype: float64"
      ]
     },
     "execution_count": 126,
     "metadata": {},
     "output_type": "execute_result"
    }
   ],
   "source": [
    "# do search\n",
    "\n",
    "occurrence_matrix.loc[\"the\"].sort_values(ascending=False)"
   ]
  },
  {
   "cell_type": "code",
   "execution_count": null,
   "metadata": {},
   "outputs": [],
   "source": []
  }
 ],
 "metadata": {
  "kernelspec": {
   "display_name": "Python 3",
   "language": "python",
   "name": "python3"
  },
  "language_info": {
   "codemirror_mode": {
    "name": "ipython",
    "version": 3
   },
   "file_extension": ".py",
   "mimetype": "text/x-python",
   "name": "python",
   "nbconvert_exporter": "python",
   "pygments_lexer": "ipython3",
   "version": "3.7.0"
  }
 },
 "nbformat": 4,
 "nbformat_minor": 2
}
