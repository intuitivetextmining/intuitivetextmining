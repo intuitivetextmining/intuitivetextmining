{
 "cells": [
  {
   "cell_type": "code",
   "execution_count": 1,
   "metadata": {},
   "outputs": [],
   "source": [
    "# 3.1 - very simple word co-occurrence example\n",
    "#\n",
    "# code for the Intuitive Text Mining book\n",
    "# Tariq Rashid, 2018"
   ]
  },
  {
   "cell_type": "code",
   "execution_count": 2,
   "metadata": {},
   "outputs": [],
   "source": [
    "# debug / dev\n",
    "%load_ext autoreload\n",
    "%autoreload 2"
   ]
  },
  {
   "cell_type": "code",
   "execution_count": 3,
   "metadata": {},
   "outputs": [],
   "source": [
    "# collections for counter\n",
    "import collections\n",
    "\n",
    "# pandas for dataframes\n",
    "import pandas"
   ]
  },
  {
   "cell_type": "code",
   "execution_count": 4,
   "metadata": {},
   "outputs": [
    {
     "name": "stdout",
     "output_type": "stream",
     "text": [
      "dict_keys(['doc_1', 'doc_2'])\n",
      "dict_values([['apple', 'banana', 'banana', 'apple', 'farmers', 'market', 'farmers', 'market'], ['the', 'farmers', 'market', 'is', 'not', 'just', 'for', 'farmers', 'a', 'farmers', 'market', 'is', 'for', 'everyone']])\n"
     ]
    }
   ],
   "source": [
    "# simple documents, with names and content\n",
    "\n",
    "doc_1_name = \"doc_1\"\n",
    "#doc_1_text = \"the farmers market is popular for cheese\"\n",
    "doc_1_text = \"apple banana banana apple farmers market farmers market\"\n",
    "\n",
    "doc_2_name = \"doc_2\"\n",
    "doc_2_text = \"the farmers market is not just for farmers a farmers market is for everyone\"\n",
    "\n",
    "# collate into a corpus dictionary\n",
    "corpus = {\n",
    "    doc_1_name : doc_1_text.split(),\n",
    "    doc_2_name : doc_2_text.split()\n",
    "}\n",
    "\n",
    "# print out document names and values\n",
    "print(corpus.keys())\n",
    "print(corpus.values())"
   ]
  },
  {
   "cell_type": "code",
   "execution_count": 5,
   "metadata": {},
   "outputs": [
    {
     "name": "stdout",
     "output_type": "stream",
     "text": [
      "indexing .. doc_1\n",
      "indexing .. doc_2\n"
     ]
    }
   ],
   "source": [
    "# count cooccurrences of words\n",
    "\n",
    "word_pair_ctr = collections.Counter()\n",
    "\n",
    "# work through all words in all documents\n",
    "for doc in corpus.keys():\n",
    "    print(\"indexing ..\", doc)\n",
    "    \n",
    "    # word pairs\n",
    "    first_words = corpus[doc][:-1]\n",
    "    second_words = corpus[doc][1:]\n",
    "    word_pair_list = zip(first_words, second_words)\n",
    "    \n",
    "    # reorder word pairs so (b,a) is counted as (a,b)\n",
    "    word_pair_list = [(a,b) if (a < b) else (b,a) for (a,b) in word_pair_list]\n",
    "    \n",
    "    # counts for each word pair\n",
    "    word_pair_ctr += collections.Counter(word_pair_list)\n",
    "    \n",
    "    pass"
   ]
  },
  {
   "cell_type": "code",
   "execution_count": 6,
   "metadata": {},
   "outputs": [
    {
     "data": {
      "text/plain": [
       "Counter({('apple', 'banana'): 2,\n",
       "         ('banana', 'banana'): 1,\n",
       "         ('apple', 'farmers'): 1,\n",
       "         ('farmers', 'market'): 5,\n",
       "         ('farmers', 'the'): 1,\n",
       "         ('is', 'market'): 2,\n",
       "         ('is', 'not'): 1,\n",
       "         ('just', 'not'): 1,\n",
       "         ('for', 'just'): 1,\n",
       "         ('farmers', 'for'): 1,\n",
       "         ('a', 'farmers'): 2,\n",
       "         ('for', 'is'): 1,\n",
       "         ('everyone', 'for'): 1})"
      ]
     },
     "execution_count": 6,
     "metadata": {},
     "output_type": "execute_result"
    }
   ],
   "source": [
    "word_pair_ctr"
   ]
  },
  {
   "cell_type": "code",
   "execution_count": 7,
   "metadata": {},
   "outputs": [
    {
     "data": {
      "text/plain": [
       "farmers   market     5\n",
       "apple     banana     2\n",
       "is        market     2\n",
       "a         farmers    2\n",
       "banana    banana     1\n",
       "apple     farmers    1\n",
       "farmers   the        1\n",
       "is        not        1\n",
       "just      not        1\n",
       "for       just       1\n",
       "farmers   for        1\n",
       "for       is         1\n",
       "everyone  for        1\n",
       "dtype: int64"
      ]
     },
     "execution_count": 7,
     "metadata": {},
     "output_type": "execute_result"
    }
   ],
   "source": [
    "# most common word pairs\n",
    "\n",
    "word_pair_series= pandas.Series(word_pair_ctr).sort_values(ascending=False)\n",
    "word_pair_series.sort_values(ascending=False)"
   ]
  },
  {
   "cell_type": "code",
   "execution_count": 8,
   "metadata": {},
   "outputs": [
    {
     "data": {
      "text/html": [
       "<div>\n",
       "<style scoped>\n",
       "    .dataframe tbody tr th:only-of-type {\n",
       "        vertical-align: middle;\n",
       "    }\n",
       "\n",
       "    .dataframe tbody tr th {\n",
       "        vertical-align: top;\n",
       "    }\n",
       "\n",
       "    .dataframe thead th {\n",
       "        text-align: right;\n",
       "    }\n",
       "</style>\n",
       "<table border=\"1\" class=\"dataframe\">\n",
       "  <thead>\n",
       "    <tr style=\"text-align: right;\">\n",
       "      <th></th>\n",
       "      <th>word1</th>\n",
       "      <th>word2</th>\n",
       "      <th>weight</th>\n",
       "    </tr>\n",
       "  </thead>\n",
       "  <tbody>\n",
       "    <tr>\n",
       "      <th>0</th>\n",
       "      <td>farmers</td>\n",
       "      <td>market</td>\n",
       "      <td>5</td>\n",
       "    </tr>\n",
       "    <tr>\n",
       "      <th>1</th>\n",
       "      <td>a</td>\n",
       "      <td>farmers</td>\n",
       "      <td>2</td>\n",
       "    </tr>\n",
       "    <tr>\n",
       "      <th>2</th>\n",
       "      <td>is</td>\n",
       "      <td>market</td>\n",
       "      <td>2</td>\n",
       "    </tr>\n",
       "    <tr>\n",
       "      <th>3</th>\n",
       "      <td>apple</td>\n",
       "      <td>banana</td>\n",
       "      <td>2</td>\n",
       "    </tr>\n",
       "    <tr>\n",
       "      <th>4</th>\n",
       "      <td>everyone</td>\n",
       "      <td>for</td>\n",
       "      <td>1</td>\n",
       "    </tr>\n",
       "    <tr>\n",
       "      <th>5</th>\n",
       "      <td>for</td>\n",
       "      <td>is</td>\n",
       "      <td>1</td>\n",
       "    </tr>\n",
       "    <tr>\n",
       "      <th>6</th>\n",
       "      <td>farmers</td>\n",
       "      <td>for</td>\n",
       "      <td>1</td>\n",
       "    </tr>\n",
       "    <tr>\n",
       "      <th>7</th>\n",
       "      <td>for</td>\n",
       "      <td>just</td>\n",
       "      <td>1</td>\n",
       "    </tr>\n",
       "    <tr>\n",
       "      <th>8</th>\n",
       "      <td>just</td>\n",
       "      <td>not</td>\n",
       "      <td>1</td>\n",
       "    </tr>\n",
       "    <tr>\n",
       "      <th>9</th>\n",
       "      <td>is</td>\n",
       "      <td>not</td>\n",
       "      <td>1</td>\n",
       "    </tr>\n",
       "    <tr>\n",
       "      <th>10</th>\n",
       "      <td>farmers</td>\n",
       "      <td>the</td>\n",
       "      <td>1</td>\n",
       "    </tr>\n",
       "    <tr>\n",
       "      <th>11</th>\n",
       "      <td>apple</td>\n",
       "      <td>farmers</td>\n",
       "      <td>1</td>\n",
       "    </tr>\n",
       "    <tr>\n",
       "      <th>12</th>\n",
       "      <td>banana</td>\n",
       "      <td>banana</td>\n",
       "      <td>1</td>\n",
       "    </tr>\n",
       "  </tbody>\n",
       "</table>\n",
       "</div>"
      ],
      "text/plain": [
       "       word1    word2  weight\n",
       "0    farmers   market       5\n",
       "1          a  farmers       2\n",
       "2         is   market       2\n",
       "3      apple   banana       2\n",
       "4   everyone      for       1\n",
       "5        for       is       1\n",
       "6    farmers      for       1\n",
       "7        for     just       1\n",
       "8       just      not       1\n",
       "9         is      not       1\n",
       "10   farmers      the       1\n",
       "11     apple  farmers       1\n",
       "12    banana   banana       1"
      ]
     },
     "execution_count": 8,
     "metadata": {},
     "output_type": "execute_result"
    }
   ],
   "source": [
    "# turn into dataframe\n",
    "df = pandas.DataFrame(word_pair_series)\n",
    "df.reset_index(inplace=True)\n",
    "df.columns=['word1', 'word2','weight']\n",
    "df"
   ]
  },
  {
   "cell_type": "code",
   "execution_count": 9,
   "metadata": {},
   "outputs": [],
   "source": [
    "import d3fdgraph"
   ]
  },
  {
   "cell_type": "code",
   "execution_count": 11,
   "metadata": {},
   "outputs": [
    {
     "data": {
      "text/html": [
       "<div id=\"p314159\"></div>\n",
       "<div>force-directed graph</div>\n",
       "\n",
       "<style>\n",
       "    .links line {\n",
       "        stroke: #999;\n",
       "        stroke-opacity: .2;\n",
       "    }\n",
       "    .nodes circle {\n",
       "        pointer-events: all;\n",
       "        stroke: #fff;\n",
       "        fill: #a55;\n",
       "        stroke-width: 1.5px;\n",
       "        opacity: 0.7;\n",
       "    }\n",
       "    .nodes text {\n",
       "        pointer-events: none;\n",
       "        font: 10px sans-serif;\n",
       "        fill: #333;\n",
       "        opacity: .5;\n",
       "    }\n",
       "</style>"
      ]
     },
     "metadata": {},
     "output_type": "display_data"
    },
    {
     "data": {
      "application/javascript": [
       "// require is how jupyter manages javascript libraries\n",
       "require.config({\n",
       "    paths: {\n",
       "        d3: 'https://d3js.org/d3.v5.min'\n",
       "    }\n",
       "});\n",
       "\n",
       "require([\"d3\"], function(d3) {\n",
       "    //console.log(d3.version);\n",
       "\n",
       "    // size of plot\n",
       "    const width = 800;\n",
       "    const height = 600;\n",
       "\n",
       "    // links and nodes data\n",
       "    const links = [{'weight': 5, 'source': 'farmers', 'target': 'market'}, {'weight': 2, 'source': 'farmers', 'target': 'a'}, {'weight': 1, 'source': 'farmers', 'target': 'for'}, {'weight': 1, 'source': 'farmers', 'target': 'the'}, {'weight': 1, 'source': 'farmers', 'target': 'apple'}, {'weight': 2, 'source': 'market', 'target': 'is'}, {'weight': 1, 'source': 'is', 'target': 'for'}, {'weight': 1, 'source': 'is', 'target': 'not'}, {'weight': 2, 'source': 'apple', 'target': 'banana'}, {'weight': 1, 'source': 'banana', 'target': 'banana'}, {'weight': 1, 'source': 'everyone', 'target': 'for'}, {'weight': 1, 'source': 'for', 'target': 'just'}, {'weight': 1, 'source': 'just', 'target': 'not'}];\n",
       "    const nodes = [{'id': 'farmers'}, {'id': 'market'}, {'id': 'a'}, {'id': 'is'}, {'id': 'apple'}, {'id': 'banana'}, {'id': 'everyone'}, {'id': 'for'}, {'id': 'just'}, {'id': 'not'}, {'id': 'the'}];\n",
       "\n",
       "\n",
       "    // create simulation\n",
       "    const simulation = d3.forceSimulation(nodes)\n",
       "    .force(\"link\", d3.forceLink(links).id(d => d.id).distance(d => 50 / d.weight))\n",
       "    .force(\"charge\", d3.forceManyBody())\n",
       "    .force(\"center\", d3.forceCenter(width / 2, height / 2));\n",
       "\n",
       "    /// dragging nodes\n",
       "    const drag = simulation => {\n",
       "\n",
       "        function dragstarted(d) {\n",
       "        if (!d3.event.active) simulation.alphaTarget(0.3).restart();\n",
       "            d.fx = d.x;\n",
       "            d.fy = d.y;\n",
       "        }\n",
       "\n",
       "        function dragged(d) {\n",
       "            d.fx = d3.event.x;\n",
       "            d.fy = d3.event.y;\n",
       "        }\n",
       "\n",
       "        function dragended(d) {\n",
       "        if (!d3.event.active) simulation.alphaTarget(0);\n",
       "            d.fx = null;\n",
       "            d.fy = null;\n",
       "        }\n",
       "\n",
       "        return d3.drag()\n",
       "          .on(\"start\", dragstarted)\n",
       "          .on(\"drag\", dragged)\n",
       "          .on(\"end\", dragended);\n",
       "    }\n",
       "\n",
       "    // select HTML element and attach SVG to it\n",
       "    const svg = d3.select('#p314159')\n",
       "        .append(\"svg\")\n",
       "        .attr(\"width\", width)\n",
       "        .attr(\"height\", height);\n",
       "\n",
       "    // add links to svg element\n",
       "    const link = svg.append(\"g\")\n",
       "            .attr(\"class\", \"links\")\n",
       "        .selectAll(\"line\")\n",
       "        .data(links)\n",
       "        .enter().append(\"line\")\n",
       "            .attr(\"stroke-width\", d => Math.sqrt(d.weight));\n",
       "\n",
       "    const node = svg.append(\"g\")\n",
       "            .attr(\"class\", \"nodes\")\n",
       "        .selectAll(\"g\")\n",
       "        .data(nodes)\n",
       "        .enter().append(\"g\");\n",
       "\n",
       "\n",
       "    const circle = node.append(\"circle\")\n",
       "            .attr(\"r\", 4.5)\n",
       "            .call(drag(simulation));\n",
       "\n",
       "    // svg text labels for eachnode\n",
       "    const label = node.append(\"text\")\n",
       "            .attr(\"dx\", 10)\n",
       "            .attr(\"dy\", \".35em\")\n",
       "            .text(d => d.id);\n",
       "\n",
       "\n",
       "    // update svg on simulation ticks\n",
       "    simulation.on(\"tick\", () => {\n",
       "        link\n",
       "            .attr(\"x1\", d => d.source.x)\n",
       "            .attr(\"y1\", d => d.source.y)\n",
       "            .attr(\"x2\", d => d.target.x)\n",
       "            .attr(\"y2\", d => d.target.y);\n",
       "\n",
       "        circle\n",
       "            .attr(\"cx\", d => d.x)\n",
       "            .attr(\"cy\", d => d.y);\n",
       "\n",
       "        label\n",
       "            .attr(\"x\", d => d.x)\n",
       "            .attr(\"y\", d => d.y);\n",
       "    });\n",
       "\n",
       "\n",
       "    //return svg.node();\n",
       "\n",
       "});\n",
       "\n"
      ]
     },
     "metadata": {},
     "output_type": "display_data"
    }
   ],
   "source": [
    "d3fdgraph.plot_force_directed_graph(df)"
   ]
  },
  {
   "cell_type": "code",
   "execution_count": null,
   "metadata": {},
   "outputs": [],
   "source": []
  },
  {
   "cell_type": "code",
   "execution_count": null,
   "metadata": {},
   "outputs": [],
   "source": []
  }
 ],
 "metadata": {
  "kernelspec": {
   "display_name": "Python 3",
   "language": "python",
   "name": "python3"
  },
  "language_info": {
   "codemirror_mode": {
    "name": "ipython",
    "version": 3
   },
   "file_extension": ".py",
   "mimetype": "text/x-python",
   "name": "python",
   "nbconvert_exporter": "python",
   "pygments_lexer": "ipython3",
   "version": "3.7.1"
  }
 },
 "nbformat": 4,
 "nbformat_minor": 2
}
