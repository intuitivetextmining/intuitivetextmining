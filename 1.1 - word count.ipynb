{
 "cells": [
  {
   "cell_type": "code",
   "execution_count": 1,
   "metadata": {},
   "outputs": [],
   "source": [
    "# 1.1 - word count\n",
    "#\n",
    "# code for the Intuitive Text Mining book\n",
    "# Tariq Rashid, 2018"
   ]
  },
  {
   "cell_type": "code",
   "execution_count": 2,
   "metadata": {},
   "outputs": [],
   "source": [
    "# import pandas for dataframe functions\n",
    "import pandas\n",
    "\n",
    "# collections includes counter\n",
    "import collections\n",
    "\n",
    "# word cloud and plotting\n",
    "import matplotlib.pyplot as plt\n",
    "import wordcloud"
   ]
  },
  {
   "cell_type": "code",
   "execution_count": 3,
   "metadata": {},
   "outputs": [],
   "source": [
    "# short text passage\n",
    "\n",
    "my_text = \"The secret to good pizza is the base.\""
   ]
  },
  {
   "cell_type": "code",
   "execution_count": 4,
   "metadata": {},
   "outputs": [],
   "source": [
    "# medium text passage\n",
    "\n",
    "my_text = \"\"\"\n",
    "The secret to good pizza is the base. And that means making the dough properly with your hands. \n",
    "Pizza dough isn’t complicated. It’s just flour, water and yeast. To make a good pizza dough, you need finely \n",
    "milled flour which has a good amount of protein, so not flour for light fluffy cakes. \n",
    "\"\"\""
   ]
  },
  {
   "cell_type": "code",
   "execution_count": 5,
   "metadata": {},
   "outputs": [],
   "source": [
    "# full text passage\n",
    "\n",
    "my_text = \"\"\"\n",
    "The secret to good pizza is the base. And that means making the dough properly with your hands. \n",
    "Pizza dough isn’t complicated. It’s just flour, water and yeast. To make a good pizza dough, you need finely \n",
    "milled flour which has a good amount of protein, so not flour for light fluffy cakes. Mix your quick yeast \n",
    "into the flour before adding warm water. Use your hands to knead the dough, making some effort to stretch and \n",
    "fold it. Stretching dough untangles and lengthens the protein strands, making for a more elastic dough ready \n",
    "to bubble when cooked. Folding ensures a uniform mix of ingredients and also adds air into the dough. \n",
    "Keeping the dough slightly wet as a less hydrated dough can lead to a biscuit pizza and not the stretchy chewy \n",
    "Neapolitan pizza we want. After about ten minutes of kneading, the dough should be springing back from \n",
    "being gently poked. Let the dough rise until it has doubled in size, which should take a few hours. Keep \n",
    "your dough covered in a damp cloth to stop it drying out. Once it has risen, gently use your fingers to \n",
    "push down and out to form a flatter pizza shaped disk. Avoid knocking too much air out of it. Add your tomato \n",
    "passata with dried oregano and salt, and a few toppings, with small torn pieces of mozzarella cheese, and cook at \n",
    "the highest temperature you can do. Leave any olive oil and basil leaves until after you’ve cooked your \n",
    "pizza as they burn in the oven. Enjoy!\n",
    "\"\"\""
   ]
  },
  {
   "cell_type": "code",
   "execution_count": 6,
   "metadata": {},
   "outputs": [
    {
     "name": "stdout",
     "output_type": "stream",
     "text": [
      "number of words =  259\n",
      "['the', 'secret', 'to', 'good', 'pizza', 'is', 'the', 'base', 'and', 'that', 'means', 'making', 'the', 'dough', 'properly', 'with', 'your', 'hands', 'pizza', 'dough', 'isnt', 'complicated', 'its', 'just', 'flour', 'water', 'and', 'yeast', 'to', 'make', 'a', 'good', 'pizza', 'dough', 'you', 'need', 'finely', 'milled', 'flour', 'which', 'has', 'a', 'good', 'amount', 'of', 'protein', 'so', 'not', 'flour', 'for', 'light', 'fluffy', 'cakes', 'mix', 'your', 'quick', 'yeast', 'into', 'the', 'flour', 'before', 'adding', 'warm', 'water', 'use', 'your', 'hands', 'to', 'knead', 'the', 'dough', 'making', 'some', 'effort', 'to', 'stretch', 'and', 'fold', 'it', 'stretching', 'dough', 'untangles', 'and', 'lengthens', 'the', 'protein', 'strands', 'making', 'for', 'a', 'more', 'elastic', 'dough', 'ready', 'to', 'bubble', 'when', 'cooked', 'folding', 'ensures', 'a', 'uniform', 'mix', 'of', 'ingredients', 'and', 'also', 'adds', 'air', 'into', 'the', 'dough', 'keeping', 'the', 'dough', 'slightly', 'wet', 'as', 'a', 'less', 'hydrated', 'dough', 'can', 'lead', 'to', 'a', 'biscuit', 'pizza', 'and', 'not', 'the', 'stretchy', 'chewy', 'neapolitan', 'pizza', 'we', 'want', 'after', 'about', 'ten', 'minutes', 'of', 'kneading', 'the', 'dough', 'should', 'be', 'springing', 'back', 'from', 'being', 'gently', 'poked', 'let', 'the', 'dough', 'rise', 'until', 'it', 'has', 'doubled', 'in', 'size', 'which', 'should', 'take', 'a', 'few', 'hours', 'keep', 'your', 'dough', 'covered', 'in', 'a', 'damp', 'cloth', 'to', 'stop', 'it', 'drying', 'out', 'once', 'it', 'has', 'risen', 'gently', 'use', 'your', 'fingers', 'to', 'push', 'down', 'and', 'out', 'to', 'form', 'a', 'flatter', 'pizza', 'shaped', 'disk', 'avoid', 'knocking', 'too', 'much', 'air', 'out', 'of', 'it', 'add', 'your', 'tomato', 'passata', 'with', 'dried', 'oregano', 'and', 'salt', 'and', 'a', 'few', 'toppings', 'with', 'small', 'torn', 'pieces', 'of', 'mozzarella', 'cheese', 'and', 'cook', 'at', 'the', 'highest', 'temperature', 'you', 'can', 'do', 'leave', 'any', 'olive', 'oil', 'and', 'basil', 'leaves', 'until', 'after', 'youve', 'cooked', 'your', 'pizza', 'as', 'they', 'burn', 'in', 'the', 'oven', 'enjoy']\n"
     ]
    }
   ],
   "source": [
    "# make lowercase\n",
    "my_text = my_text.lower()\n",
    "\n",
    "# remove everything except alphanumeric characters and spaces\n",
    "cleaned_text = ''.join(char for char in my_text if char.isalnum() or char==' ')\n",
    "\n",
    "# split the text into words\n",
    "word_list = cleaned_text.split()\n",
    "\n",
    "print(\"number of words = \", len(word_list) )\n",
    "print(word_list)"
   ]
  },
  {
   "cell_type": "code",
   "execution_count": 7,
   "metadata": {},
   "outputs": [
    {
     "name": "stdout",
     "output_type": "stream",
     "text": [
      "unique words =  154\n"
     ]
    }
   ],
   "source": [
    "# count words\n",
    "\n",
    "# dictionary of word counts\n",
    "wordcount_dict = collections.Counter(word_list)\n",
    "\n",
    "print(\"unique words = \", len(wordcount_dict) )"
   ]
  },
  {
   "cell_type": "code",
   "execution_count": 8,
   "metadata": {},
   "outputs": [
    {
     "data": {
      "text/html": [
       "<div>\n",
       "<style scoped>\n",
       "    .dataframe tbody tr th:only-of-type {\n",
       "        vertical-align: middle;\n",
       "    }\n",
       "\n",
       "    .dataframe tbody tr th {\n",
       "        vertical-align: top;\n",
       "    }\n",
       "\n",
       "    .dataframe thead th {\n",
       "        text-align: right;\n",
       "    }\n",
       "</style>\n",
       "<table border=\"1\" class=\"dataframe\">\n",
       "  <thead>\n",
       "    <tr style=\"text-align: right;\">\n",
       "      <th></th>\n",
       "      <th>count</th>\n",
       "    </tr>\n",
       "    <tr>\n",
       "      <th>word</th>\n",
       "      <th></th>\n",
       "    </tr>\n",
       "  </thead>\n",
       "  <tbody>\n",
       "    <tr>\n",
       "      <th>the</th>\n",
       "      <td>13</td>\n",
       "    </tr>\n",
       "    <tr>\n",
       "      <th>dough</th>\n",
       "      <td>12</td>\n",
       "    </tr>\n",
       "    <tr>\n",
       "      <th>and</th>\n",
       "      <td>11</td>\n",
       "    </tr>\n",
       "    <tr>\n",
       "      <th>a</th>\n",
       "      <td>10</td>\n",
       "    </tr>\n",
       "    <tr>\n",
       "      <th>to</th>\n",
       "      <td>9</td>\n",
       "    </tr>\n",
       "    <tr>\n",
       "      <th>pizza</th>\n",
       "      <td>7</td>\n",
       "    </tr>\n",
       "    <tr>\n",
       "      <th>your</th>\n",
       "      <td>7</td>\n",
       "    </tr>\n",
       "    <tr>\n",
       "      <th>it</th>\n",
       "      <td>5</td>\n",
       "    </tr>\n",
       "    <tr>\n",
       "      <th>of</th>\n",
       "      <td>5</td>\n",
       "    </tr>\n",
       "    <tr>\n",
       "      <th>flour</th>\n",
       "      <td>4</td>\n",
       "    </tr>\n",
       "  </tbody>\n",
       "</table>\n",
       "</div>"
      ],
      "text/plain": [
       "       count\n",
       "word        \n",
       "the       13\n",
       "dough     12\n",
       "and       11\n",
       "a         10\n",
       "to         9\n",
       "pizza      7\n",
       "your       7\n",
       "it         5\n",
       "of         5\n",
       "flour      4"
      ]
     },
     "execution_count": 8,
     "metadata": {},
     "output_type": "execute_result"
    }
   ],
   "source": [
    "# pandas data frame\n",
    "\n",
    "df = pandas.DataFrame.from_dict(wordcount_dict, orient=\"index\", columns=['count'])\n",
    "\n",
    "# add name to index\n",
    "df.index.name = 'word'\n",
    "\n",
    "# sort by count column, largest to smallest\n",
    "df.sort_values('count', ascending=False, inplace=True)\n",
    "\n",
    "# show top 10\n",
    "df[:10]"
   ]
  },
  {
   "cell_type": "code",
   "execution_count": null,
   "metadata": {},
   "outputs": [
    {
     "data": {
      "text/plain": [
       "(-0.5, 1199.5, 799.5, -0.5)"
      ]
     },
     "execution_count": 9,
     "metadata": {},
     "output_type": "execute_result"
    }
   ],
   "source": [
    "# word cloud\n",
    "\n",
    "# wordcloud object\n",
    "wc = wordcloud.WordCloud(colormap='viridis', max_font_size=60, max_words=100, width=1200, height=800, background_color=\"white\", margin=10, prefer_horizontal=1.0)\n",
    "\n",
    "# words and plot sizes (word count, relevance, etc)\n",
    "wc.generate_from_frequencies(wordcount_dict)\n",
    "\n",
    "# plot wordcloud\n",
    "plt.figure(dpi=600, figsize=(6,4))\n",
    "plt.imshow(wc, interpolation='lanczos')\n",
    "plt.axis(\"off\")"
   ]
  },
  {
   "cell_type": "code",
   "execution_count": null,
   "metadata": {},
   "outputs": [],
   "source": []
  }
 ],
 "metadata": {
  "kernelspec": {
   "display_name": "Python 3",
   "language": "python",
   "name": "python3"
  },
  "language_info": {
   "codemirror_mode": {
    "name": "ipython",
    "version": 3
   },
   "file_extension": ".py",
   "mimetype": "text/x-python",
   "name": "python",
   "nbconvert_exporter": "python",
   "pygments_lexer": "ipython3",
   "version": "3.6.6"
  }
 },
 "nbformat": 4,
 "nbformat_minor": 2
}
