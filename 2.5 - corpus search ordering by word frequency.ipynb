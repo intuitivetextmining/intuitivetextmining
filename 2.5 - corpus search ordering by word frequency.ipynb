{
 "cells": [
  {
   "cell_type": "code",
   "execution_count": 1,
   "metadata": {},
   "outputs": [],
   "source": [
    "# 2.5 - search of text corpus with result ordering by word frequency\n",
    "#\n",
    "# code for the Intuitive Text Mining book\n",
    "# Tariq Rashid, 2018"
   ]
  },
  {
   "cell_type": "code",
   "execution_count": 2,
   "metadata": {},
   "outputs": [],
   "source": [
    "# collections for counter\n",
    "import collections\n",
    "\n",
    "# pandas for dataframes\n",
    "import pandas\n",
    "\n",
    "# glob module for finding files that match a pattern, os module for file basename\n",
    "import glob\n",
    "import os"
   ]
  },
  {
   "cell_type": "code",
   "execution_count": 3,
   "metadata": {},
   "outputs": [],
   "source": [
    "# function to clean and simplify text for indexing and also querying\n",
    "\n",
    "def clean_text(text):\n",
    "    \n",
    "    # make lowercase\n",
    "    cleaned_text = text.lower()\n",
    "\n",
    "    # keep only normal letters a-z, numbers, spaces, and new lines, remove punctuation\n",
    "    cleaned_text = [char for char in cleaned_text if char.isalnum() or char==\" \" or char=='\\n']\n",
    "    cleaned_text = \"\".join(cleaned_text)\n",
    "    \n",
    "    return cleaned_text"
   ]
  },
  {
   "cell_type": "code",
   "execution_count": 28,
   "metadata": {},
   "outputs": [
    {
     "name": "stdout",
     "output_type": "stream",
     "text": [
      "reading from ... 15.txt\n",
      "reading from ... 01.txt\n",
      "reading from ... 00.txt\n",
      "reading from ... 14.txt\n",
      "reading from ... 02.txt\n",
      "reading from ... 16.txt\n",
      "reading from ... 17.txt\n",
      "reading from ... 03.txt\n",
      "reading from ... 07.txt\n",
      "reading from ... 13.txt\n",
      "reading from ... 12.txt\n",
      "reading from ... 06.txt\n",
      "reading from ... 10.txt\n",
      "reading from ... 04.txt\n",
      "reading from ... 05.txt\n",
      "reading from ... 11.txt\n",
      "reading from ... 08.txt\n",
      "reading from ... 20.txt\n",
      "reading from ... 21.txt\n",
      "reading from ... 09.txt\n",
      "reading from ... 19.txt\n",
      "reading from ... 18.txt\n"
     ]
    }
   ],
   "source": [
    "# read text documents and build occurrence matrix\n",
    "\n",
    "# corpus location and text filename pattern\n",
    "corpus_directory = 'data_sets/recipes/'\n",
    "text_filename_pattern = 'txt/??.txt'\n",
    "\n",
    "# list of text files\n",
    "list_of_text_files = glob.glob(corpus_directory + text_filename_pattern)\n",
    "\n",
    "# create dataframe_list\n",
    "dataframe_list = []\n",
    "\n",
    "# read text from every text file\n",
    "for document_file_path in list_of_text_files:\n",
    "    document_name = os.path.basename(document_file_path)\n",
    "    print(\"reading from ...\", document_name)\n",
    "    with open(document_file_path, \"r\") as f:\n",
    "        \n",
    "        # read text content of file\n",
    "        text_content = f.read()\n",
    "        \n",
    "        # clean text content\n",
    "        cleaned_text = clean_text(text_content)\n",
    "\n",
    "        # split the text into words\n",
    "        word_list = cleaned_text.split()\n",
    "        \n",
    "        # count words\n",
    "        words_ctr = collections.Counter(word_list)\n",
    "        \n",
    "        # create word occurrence column and add to list\n",
    "        dataframe_list.append( pandas.DataFrame.from_dict(words_ctr, orient='index', columns=[document_name]) )\n",
    "        \n",
    "        pass\n",
    "    pass\n",
    "\n",
    "# join together the per-doc dataframes\n",
    "occurrence_matrix = pandas.concat(dataframe_list, axis=1, sort=False)\n",
    "\n",
    "# replace empty cells with 0\n",
    "occurrence_matrix.fillna(0, inplace=True)\n",
    "\n",
    "# change number type from float to integer\n",
    "occurrence_matrix = occurrence_matrix.astype(int)"
   ]
  },
  {
   "cell_type": "code",
   "execution_count": 29,
   "metadata": {},
   "outputs": [
    {
     "data": {
      "text/html": [
       "<div>\n",
       "<style scoped>\n",
       "    .dataframe tbody tr th:only-of-type {\n",
       "        vertical-align: middle;\n",
       "    }\n",
       "\n",
       "    .dataframe tbody tr th {\n",
       "        vertical-align: top;\n",
       "    }\n",
       "\n",
       "    .dataframe thead th {\n",
       "        text-align: right;\n",
       "    }\n",
       "</style>\n",
       "<table border=\"1\" class=\"dataframe\">\n",
       "  <thead>\n",
       "    <tr style=\"text-align: right;\">\n",
       "      <th></th>\n",
       "      <th>15.txt</th>\n",
       "      <th>01.txt</th>\n",
       "      <th>00.txt</th>\n",
       "      <th>14.txt</th>\n",
       "      <th>02.txt</th>\n",
       "      <th>16.txt</th>\n",
       "      <th>17.txt</th>\n",
       "      <th>03.txt</th>\n",
       "      <th>07.txt</th>\n",
       "      <th>13.txt</th>\n",
       "      <th>...</th>\n",
       "      <th>10.txt</th>\n",
       "      <th>04.txt</th>\n",
       "      <th>05.txt</th>\n",
       "      <th>11.txt</th>\n",
       "      <th>08.txt</th>\n",
       "      <th>20.txt</th>\n",
       "      <th>21.txt</th>\n",
       "      <th>09.txt</th>\n",
       "      <th>19.txt</th>\n",
       "      <th>18.txt</th>\n",
       "    </tr>\n",
       "  </thead>\n",
       "  <tbody>\n",
       "    <tr>\n",
       "      <th>fried</th>\n",
       "      <td>1</td>\n",
       "      <td>0</td>\n",
       "      <td>0</td>\n",
       "      <td>1</td>\n",
       "      <td>0</td>\n",
       "      <td>0</td>\n",
       "      <td>0</td>\n",
       "      <td>0</td>\n",
       "      <td>1</td>\n",
       "      <td>0</td>\n",
       "      <td>...</td>\n",
       "      <td>0</td>\n",
       "      <td>0</td>\n",
       "      <td>0</td>\n",
       "      <td>0</td>\n",
       "      <td>0</td>\n",
       "      <td>0</td>\n",
       "      <td>0</td>\n",
       "      <td>0</td>\n",
       "      <td>0</td>\n",
       "      <td>0</td>\n",
       "    </tr>\n",
       "    <tr>\n",
       "      <th>eggplants</th>\n",
       "      <td>2</td>\n",
       "      <td>0</td>\n",
       "      <td>0</td>\n",
       "      <td>0</td>\n",
       "      <td>0</td>\n",
       "      <td>2</td>\n",
       "      <td>0</td>\n",
       "      <td>0</td>\n",
       "      <td>0</td>\n",
       "      <td>0</td>\n",
       "      <td>...</td>\n",
       "      <td>0</td>\n",
       "      <td>0</td>\n",
       "      <td>0</td>\n",
       "      <td>0</td>\n",
       "      <td>0</td>\n",
       "      <td>0</td>\n",
       "      <td>0</td>\n",
       "      <td>0</td>\n",
       "      <td>0</td>\n",
       "      <td>0</td>\n",
       "    </tr>\n",
       "    <tr>\n",
       "      <th>melanzane</th>\n",
       "      <td>1</td>\n",
       "      <td>0</td>\n",
       "      <td>0</td>\n",
       "      <td>0</td>\n",
       "      <td>0</td>\n",
       "      <td>1</td>\n",
       "      <td>0</td>\n",
       "      <td>0</td>\n",
       "      <td>0</td>\n",
       "      <td>0</td>\n",
       "      <td>...</td>\n",
       "      <td>0</td>\n",
       "      <td>0</td>\n",
       "      <td>0</td>\n",
       "      <td>0</td>\n",
       "      <td>0</td>\n",
       "      <td>0</td>\n",
       "      <td>0</td>\n",
       "      <td>0</td>\n",
       "      <td>0</td>\n",
       "      <td>0</td>\n",
       "    </tr>\n",
       "    <tr>\n",
       "      <th>fritte</th>\n",
       "      <td>1</td>\n",
       "      <td>0</td>\n",
       "      <td>0</td>\n",
       "      <td>0</td>\n",
       "      <td>0</td>\n",
       "      <td>0</td>\n",
       "      <td>0</td>\n",
       "      <td>0</td>\n",
       "      <td>0</td>\n",
       "      <td>0</td>\n",
       "      <td>...</td>\n",
       "      <td>0</td>\n",
       "      <td>0</td>\n",
       "      <td>0</td>\n",
       "      <td>0</td>\n",
       "      <td>0</td>\n",
       "      <td>0</td>\n",
       "      <td>0</td>\n",
       "      <td>0</td>\n",
       "      <td>0</td>\n",
       "      <td>0</td>\n",
       "    </tr>\n",
       "    <tr>\n",
       "      <th>eggplant</th>\n",
       "      <td>1</td>\n",
       "      <td>0</td>\n",
       "      <td>0</td>\n",
       "      <td>0</td>\n",
       "      <td>0</td>\n",
       "      <td>0</td>\n",
       "      <td>0</td>\n",
       "      <td>0</td>\n",
       "      <td>0</td>\n",
       "      <td>0</td>\n",
       "      <td>...</td>\n",
       "      <td>0</td>\n",
       "      <td>0</td>\n",
       "      <td>0</td>\n",
       "      <td>0</td>\n",
       "      <td>0</td>\n",
       "      <td>0</td>\n",
       "      <td>0</td>\n",
       "      <td>0</td>\n",
       "      <td>0</td>\n",
       "      <td>0</td>\n",
       "    </tr>\n",
       "  </tbody>\n",
       "</table>\n",
       "<p>5 rows × 22 columns</p>\n",
       "</div>"
      ],
      "text/plain": [
       "           15.txt  01.txt  00.txt  14.txt  02.txt  16.txt  17.txt  03.txt  \\\n",
       "fried           1       0       0       1       0       0       0       0   \n",
       "eggplants       2       0       0       0       0       2       0       0   \n",
       "melanzane       1       0       0       0       0       1       0       0   \n",
       "fritte          1       0       0       0       0       0       0       0   \n",
       "eggplant        1       0       0       0       0       0       0       0   \n",
       "\n",
       "           07.txt  13.txt   ...    10.txt  04.txt  05.txt  11.txt  08.txt  \\\n",
       "fried           1       0   ...         0       0       0       0       0   \n",
       "eggplants       0       0   ...         0       0       0       0       0   \n",
       "melanzane       0       0   ...         0       0       0       0       0   \n",
       "fritte          0       0   ...         0       0       0       0       0   \n",
       "eggplant        0       0   ...         0       0       0       0       0   \n",
       "\n",
       "           20.txt  21.txt  09.txt  19.txt  18.txt  \n",
       "fried           0       0       0       0       0  \n",
       "eggplants       0       0       0       0       0  \n",
       "melanzane       0       0       0       0       0  \n",
       "fritte          0       0       0       0       0  \n",
       "eggplant        0       0       0       0       0  \n",
       "\n",
       "[5 rows x 22 columns]"
      ]
     },
     "execution_count": 29,
     "metadata": {},
     "output_type": "execute_result"
    }
   ],
   "source": [
    "# display part of word occurrence matrix\n",
    "occurrence_matrix.head()"
   ]
  },
  {
   "cell_type": "code",
   "execution_count": 30,
   "metadata": {},
   "outputs": [
    {
     "data": {
      "text/plain": [
       "15.txt     82\n",
       "01.txt    127\n",
       "00.txt     84\n",
       "14.txt    109\n",
       "02.txt    103\n",
       "16.txt    112\n",
       "17.txt    205\n",
       "03.txt    262\n",
       "07.txt    195\n",
       "13.txt    139\n",
       "12.txt    180\n",
       "06.txt     90\n",
       "10.txt    107\n",
       "04.txt    285\n",
       "05.txt     94\n",
       "11.txt    182\n",
       "08.txt    223\n",
       "20.txt     88\n",
       "21.txt    147\n",
       "09.txt     96\n",
       "19.txt    192\n",
       "18.txt     94\n",
       "dtype: int64"
      ]
     },
     "execution_count": 30,
     "metadata": {},
     "output_type": "execute_result"
    }
   ],
   "source": [
    "# sums of occurrence columns is the doc word length\n",
    "\n",
    "occurrence_matrix.sum()"
   ]
  },
  {
   "cell_type": "code",
   "execution_count": 31,
   "metadata": {},
   "outputs": [
    {
     "data": {
      "text/plain": [
       "<matplotlib.axes._subplots.AxesSubplot at 0x116f8ab00>"
      ]
     },
     "execution_count": 31,
     "metadata": {},
     "output_type": "execute_result"
    },
    {
     "data": {
      "image/png": "[encoded data removed]",
      "text/plain": [
       "<Figure size 720x432 with 1 Axes>"
      ]
     },
     "metadata": {
      "needs_background": "light"
     },
     "output_type": "display_data"
    }
   ],
   "source": [
    "# visualise size of docs\n",
    "\n",
    "occurrence_matrix.sum().sort_values(ascending=False).plot(kind='bar', figsize=(10,6), color='royalblue')"
   ]
  },
  {
   "cell_type": "code",
   "execution_count": 32,
   "metadata": {},
   "outputs": [
    {
     "data": {
      "text/plain": [
       "<matplotlib.axes._subplots.AxesSubplot at 0x1150a9be0>"
      ]
     },
     "execution_count": 32,
     "metadata": {},
     "output_type": "execute_result"
    },
    {
     "data": {
      "image/png": "[encoded data removed]",
      "text/plain": [
       "<Figure size 720x432 with 1 Axes>"
      ]
     },
     "metadata": {
      "needs_background": "light"
     },
     "output_type": "display_data"
    }
   ],
   "source": [
    "# visualise size of docs (histogram, default is 10 bins)\n",
    "\n",
    "occurrence_matrix.sum().sort_values(ascending=False).plot(kind='hist', figsize=(10,6), color='royalblue')"
   ]
  },
  {
   "cell_type": "code",
   "execution_count": 39,
   "metadata": {},
   "outputs": [
    {
     "data": {
      "text/html": [
       "<div>\n",
       "<style scoped>\n",
       "    .dataframe tbody tr th:only-of-type {\n",
       "        vertical-align: middle;\n",
       "    }\n",
       "\n",
       "    .dataframe tbody tr th {\n",
       "        vertical-align: top;\n",
       "    }\n",
       "\n",
       "    .dataframe thead th {\n",
       "        text-align: right;\n",
       "    }\n",
       "</style>\n",
       "<table border=\"1\" class=\"dataframe\">\n",
       "  <thead>\n",
       "    <tr style=\"text-align: right;\">\n",
       "      <th></th>\n",
       "      <th>15.txt</th>\n",
       "      <th>01.txt</th>\n",
       "      <th>00.txt</th>\n",
       "      <th>14.txt</th>\n",
       "      <th>02.txt</th>\n",
       "      <th>16.txt</th>\n",
       "      <th>17.txt</th>\n",
       "      <th>03.txt</th>\n",
       "      <th>07.txt</th>\n",
       "      <th>13.txt</th>\n",
       "      <th>...</th>\n",
       "      <th>10.txt</th>\n",
       "      <th>04.txt</th>\n",
       "      <th>05.txt</th>\n",
       "      <th>11.txt</th>\n",
       "      <th>08.txt</th>\n",
       "      <th>20.txt</th>\n",
       "      <th>21.txt</th>\n",
       "      <th>09.txt</th>\n",
       "      <th>19.txt</th>\n",
       "      <th>18.txt</th>\n",
       "    </tr>\n",
       "  </thead>\n",
       "  <tbody>\n",
       "    <tr>\n",
       "      <th>fried</th>\n",
       "      <td>0.012195</td>\n",
       "      <td>0.0</td>\n",
       "      <td>0.0</td>\n",
       "      <td>0.009174</td>\n",
       "      <td>0.0</td>\n",
       "      <td>0.000000</td>\n",
       "      <td>0.0</td>\n",
       "      <td>0.0</td>\n",
       "      <td>0.005128</td>\n",
       "      <td>0.0</td>\n",
       "      <td>...</td>\n",
       "      <td>0.0</td>\n",
       "      <td>0.0</td>\n",
       "      <td>0.0</td>\n",
       "      <td>0.0</td>\n",
       "      <td>0.0</td>\n",
       "      <td>0.0</td>\n",
       "      <td>0.0</td>\n",
       "      <td>0.0</td>\n",
       "      <td>0.0</td>\n",
       "      <td>0.0</td>\n",
       "    </tr>\n",
       "    <tr>\n",
       "      <th>eggplants</th>\n",
       "      <td>0.024390</td>\n",
       "      <td>0.0</td>\n",
       "      <td>0.0</td>\n",
       "      <td>0.000000</td>\n",
       "      <td>0.0</td>\n",
       "      <td>0.017857</td>\n",
       "      <td>0.0</td>\n",
       "      <td>0.0</td>\n",
       "      <td>0.000000</td>\n",
       "      <td>0.0</td>\n",
       "      <td>...</td>\n",
       "      <td>0.0</td>\n",
       "      <td>0.0</td>\n",
       "      <td>0.0</td>\n",
       "      <td>0.0</td>\n",
       "      <td>0.0</td>\n",
       "      <td>0.0</td>\n",
       "      <td>0.0</td>\n",
       "      <td>0.0</td>\n",
       "      <td>0.0</td>\n",
       "      <td>0.0</td>\n",
       "    </tr>\n",
       "    <tr>\n",
       "      <th>melanzane</th>\n",
       "      <td>0.012195</td>\n",
       "      <td>0.0</td>\n",
       "      <td>0.0</td>\n",
       "      <td>0.000000</td>\n",
       "      <td>0.0</td>\n",
       "      <td>0.008929</td>\n",
       "      <td>0.0</td>\n",
       "      <td>0.0</td>\n",
       "      <td>0.000000</td>\n",
       "      <td>0.0</td>\n",
       "      <td>...</td>\n",
       "      <td>0.0</td>\n",
       "      <td>0.0</td>\n",
       "      <td>0.0</td>\n",
       "      <td>0.0</td>\n",
       "      <td>0.0</td>\n",
       "      <td>0.0</td>\n",
       "      <td>0.0</td>\n",
       "      <td>0.0</td>\n",
       "      <td>0.0</td>\n",
       "      <td>0.0</td>\n",
       "    </tr>\n",
       "    <tr>\n",
       "      <th>fritte</th>\n",
       "      <td>0.012195</td>\n",
       "      <td>0.0</td>\n",
       "      <td>0.0</td>\n",
       "      <td>0.000000</td>\n",
       "      <td>0.0</td>\n",
       "      <td>0.000000</td>\n",
       "      <td>0.0</td>\n",
       "      <td>0.0</td>\n",
       "      <td>0.000000</td>\n",
       "      <td>0.0</td>\n",
       "      <td>...</td>\n",
       "      <td>0.0</td>\n",
       "      <td>0.0</td>\n",
       "      <td>0.0</td>\n",
       "      <td>0.0</td>\n",
       "      <td>0.0</td>\n",
       "      <td>0.0</td>\n",
       "      <td>0.0</td>\n",
       "      <td>0.0</td>\n",
       "      <td>0.0</td>\n",
       "      <td>0.0</td>\n",
       "    </tr>\n",
       "    <tr>\n",
       "      <th>eggplant</th>\n",
       "      <td>0.012195</td>\n",
       "      <td>0.0</td>\n",
       "      <td>0.0</td>\n",
       "      <td>0.000000</td>\n",
       "      <td>0.0</td>\n",
       "      <td>0.000000</td>\n",
       "      <td>0.0</td>\n",
       "      <td>0.0</td>\n",
       "      <td>0.000000</td>\n",
       "      <td>0.0</td>\n",
       "      <td>...</td>\n",
       "      <td>0.0</td>\n",
       "      <td>0.0</td>\n",
       "      <td>0.0</td>\n",
       "      <td>0.0</td>\n",
       "      <td>0.0</td>\n",
       "      <td>0.0</td>\n",
       "      <td>0.0</td>\n",
       "      <td>0.0</td>\n",
       "      <td>0.0</td>\n",
       "      <td>0.0</td>\n",
       "    </tr>\n",
       "  </tbody>\n",
       "</table>\n",
       "<p>5 rows × 22 columns</p>\n",
       "</div>"
      ],
      "text/plain": [
       "             15.txt  01.txt  00.txt    14.txt  02.txt    16.txt  17.txt  \\\n",
       "fried      0.012195     0.0     0.0  0.009174     0.0  0.000000     0.0   \n",
       "eggplants  0.024390     0.0     0.0  0.000000     0.0  0.017857     0.0   \n",
       "melanzane  0.012195     0.0     0.0  0.000000     0.0  0.008929     0.0   \n",
       "fritte     0.012195     0.0     0.0  0.000000     0.0  0.000000     0.0   \n",
       "eggplant   0.012195     0.0     0.0  0.000000     0.0  0.000000     0.0   \n",
       "\n",
       "           03.txt    07.txt  13.txt   ...    10.txt  04.txt  05.txt  11.txt  \\\n",
       "fried         0.0  0.005128     0.0   ...       0.0     0.0     0.0     0.0   \n",
       "eggplants     0.0  0.000000     0.0   ...       0.0     0.0     0.0     0.0   \n",
       "melanzane     0.0  0.000000     0.0   ...       0.0     0.0     0.0     0.0   \n",
       "fritte        0.0  0.000000     0.0   ...       0.0     0.0     0.0     0.0   \n",
       "eggplant      0.0  0.000000     0.0   ...       0.0     0.0     0.0     0.0   \n",
       "\n",
       "           08.txt  20.txt  21.txt  09.txt  19.txt  18.txt  \n",
       "fried         0.0     0.0     0.0     0.0     0.0     0.0  \n",
       "eggplants     0.0     0.0     0.0     0.0     0.0     0.0  \n",
       "melanzane     0.0     0.0     0.0     0.0     0.0     0.0  \n",
       "fritte        0.0     0.0     0.0     0.0     0.0     0.0  \n",
       "eggplant      0.0     0.0     0.0     0.0     0.0     0.0  \n",
       "\n",
       "[5 rows x 22 columns]"
      ]
     },
     "execution_count": 39,
     "metadata": {},
     "output_type": "execute_result"
    }
   ],
   "source": [
    "# frequency matrix is occurrence matrix columns divided by column sums\n",
    "\n",
    "frequency_matrix = occurrence_matrix/occurrence_matrix.sum()\n",
    "frequency_matrix.head()"
   ]
  },
  {
   "cell_type": "code",
   "execution_count": 40,
   "metadata": {},
   "outputs": [
    {
     "data": {
      "text/plain": [
       "15.txt    1.0\n",
       "01.txt    1.0\n",
       "00.txt    1.0\n",
       "14.txt    1.0\n",
       "02.txt    1.0\n",
       "16.txt    1.0\n",
       "17.txt    1.0\n",
       "03.txt    1.0\n",
       "07.txt    1.0\n",
       "13.txt    1.0\n",
       "12.txt    1.0\n",
       "06.txt    1.0\n",
       "10.txt    1.0\n",
       "04.txt    1.0\n",
       "05.txt    1.0\n",
       "11.txt    1.0\n",
       "08.txt    1.0\n",
       "20.txt    1.0\n",
       "21.txt    1.0\n",
       "09.txt    1.0\n",
       "19.txt    1.0\n",
       "18.txt    1.0\n",
       "dtype: float64"
      ]
     },
     "execution_count": 40,
     "metadata": {},
     "output_type": "execute_result"
    }
   ],
   "source": [
    "# frequencies should add up to 1.0\n",
    "\n",
    "frequency_matrix.sum()"
   ]
  },
  {
   "cell_type": "code",
   "execution_count": 49,
   "metadata": {},
   "outputs": [
    {
     "data": {
      "text/plain": [
       "06.txt    0.011111\n",
       "Name: sugar, dtype: float64"
      ]
     },
     "execution_count": 49,
     "metadata": {},
     "output_type": "execute_result"
    }
   ],
   "source": [
    "# do search, results sorted by occurrence\n",
    "\n",
    "results = frequency_matrix.loc[\"sugar\"].sort_values(ascending=False)\n",
    "results[results>0]"
   ]
  },
  {
   "cell_type": "code",
   "execution_count": 50,
   "metadata": {},
   "outputs": [
    {
     "data": {
      "text/plain": [
       "18.txt    0.010638\n",
       "09.txt    0.010417\n",
       "14.txt    0.009174\n",
       "11.txt    0.005495\n",
       "19.txt    0.005208\n",
       "07.txt    0.005128\n",
       "Name: olive, dtype: float64"
      ]
     },
     "execution_count": 50,
     "metadata": {},
     "output_type": "execute_result"
    }
   ],
   "source": [
    "# do search, results sorted by occurrence\n",
    "\n",
    "results = frequency_matrix.loc[\"olive\"].sort_values(ascending=False)\n",
    "results[results>0]"
   ]
  },
  {
   "cell_type": "code",
   "execution_count": 51,
   "metadata": {},
   "outputs": [
    {
     "data": {
      "text/plain": [
       "<matplotlib.axes._subplots.AxesSubplot at 0x11556bba8>"
      ]
     },
     "execution_count": 51,
     "metadata": {},
     "output_type": "execute_result"
    },
    {
     "data": {
      "image/png": "[encoded data removed]",
      "text/plain": [
       "<Figure size 432x288 with 1 Axes>"
      ]
     },
     "metadata": {
      "needs_background": "light"
     },
     "output_type": "display_data"
    }
   ],
   "source": [
    "# do search, results sorted by occurrence\n",
    "\n",
    "results = frequency_matrix.loc[\"olive\"].sort_values(ascending=False)\n",
    "results = results[results>0]\n",
    "results.plot(kind=\"bar\", color='royalblue')"
   ]
  },
  {
   "cell_type": "code",
   "execution_count": 59,
   "metadata": {},
   "outputs": [
    {
     "data": {
      "text/plain": [
       "18.txt    0.042553\n",
       "10.txt    0.028037\n",
       "19.txt    0.015625\n",
       "20.txt    0.011364\n",
       "06.txt    0.011111\n",
       "17.txt    0.009756\n",
       "02.txt    0.009709\n",
       "08.txt    0.008969\n",
       "03.txt    0.007634\n",
       "04.txt    0.007018\n",
       "12.txt    0.005556\n",
       "11.txt    0.005495\n",
       "07.txt    0.005128\n",
       "Name: butter, dtype: float64"
      ]
     },
     "execution_count": 59,
     "metadata": {},
     "output_type": "execute_result"
    }
   ],
   "source": [
    "results = frequency_matrix.loc[\"butter\"].sort_values(ascending=False)\n",
    "results[results>0]"
   ]
  },
  {
   "cell_type": "code",
   "execution_count": 60,
   "metadata": {},
   "outputs": [
    {
     "data": {
      "text/plain": [
       "<matplotlib.axes._subplots.AxesSubplot at 0x117728c50>"
      ]
     },
     "execution_count": 60,
     "metadata": {},
     "output_type": "execute_result"
    },
    {
     "data": {
      "image/png": "[encoded data removed]",
      "text/plain": [
       "<Figure size 432x288 with 1 Axes>"
      ]
     },
     "metadata": {
      "needs_background": "light"
     },
     "output_type": "display_data"
    }
   ],
   "source": [
    "# do search, results sorted by occurrence\n",
    "\n",
    "results = frequency_matrix.loc[\"butter\"].sort_values(ascending=False)\n",
    "results = results[results>0]\n",
    "results.plot(kind=\"bar\", color='royalblue')"
   ]
  },
  {
   "cell_type": "code",
   "execution_count": 74,
   "metadata": {},
   "outputs": [
    {
     "data": {
      "text/plain": [
       "3.293724703057919"
      ]
     },
     "execution_count": 74,
     "metadata": {},
     "output_type": "execute_result"
    }
   ],
   "source": [
    "# largest frequency compared to the average\n",
    "\n",
    "results = frequency_matrix.loc[\"butter\"].sort_values(ascending=False)\n",
    "results = results[results>0]\n",
    "results.max() / results.mean()"
   ]
  },
  {
   "cell_type": "code",
   "execution_count": null,
   "metadata": {},
   "outputs": [],
   "source": []
  }
 ],
 "metadata": {
  "kernelspec": {
   "display_name": "Python 3",
   "language": "python",
   "name": "python3"
  },
  "language_info": {
   "codemirror_mode": {
    "name": "ipython",
    "version": 3
   },
   "file_extension": ".py",
   "mimetype": "text/x-python",
   "name": "python",
   "nbconvert_exporter": "python",
   "pygments_lexer": "ipython3",
   "version": "3.7.0"
  }
 },
 "nbformat": 4,
 "nbformat_minor": 2
}
